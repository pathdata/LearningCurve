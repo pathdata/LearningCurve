{
  "cells": [
    {
      "cell_type": "code",
      "execution_count": null,
      "metadata": {
        "colab": {
          "base_uri": "https://localhost:8080/"
        },
        "id": "nN-5rAwcma9J",
        "outputId": "fdf5ee0a-cdce-4de2-f038-d9099e3f39fc"
      },
      "outputs": [
        {
          "output_type": "stream",
          "name": "stdout",
          "text": [
            "Looking in indexes: https://pypi.org/simple, https://us-python.pkg.dev/colab-wheels/public/simple/\n",
            "Requirement already satisfied: opencv-python in /usr/local/lib/python3.7/dist-packages (4.6.0.66)\n",
            "Requirement already satisfied: numpy>=1.14.5 in /usr/local/lib/python3.7/dist-packages (from opencv-python) (1.21.6)\n",
            "Looking in indexes: https://pypi.org/simple, https://us-python.pkg.dev/colab-wheels/public/simple/\n",
            "Requirement already satisfied: tensorflow==1.13.1 in /usr/local/lib/python3.7/dist-packages (1.13.1)\n",
            "Requirement already satisfied: wheel>=0.26 in /usr/local/lib/python3.7/dist-packages (from tensorflow==1.13.1) (0.37.1)\n",
            "Requirement already satisfied: absl-py>=0.1.6 in /usr/local/lib/python3.7/dist-packages (from tensorflow==1.13.1) (1.2.0)\n",
            "Requirement already satisfied: gast>=0.2.0 in /usr/local/lib/python3.7/dist-packages (from tensorflow==1.13.1) (0.5.3)\n",
            "Requirement already satisfied: keras-preprocessing>=1.0.5 in /usr/local/lib/python3.7/dist-packages (from tensorflow==1.13.1) (1.1.2)\n",
            "Requirement already satisfied: keras-applications>=1.0.6 in /usr/local/lib/python3.7/dist-packages (from tensorflow==1.13.1) (1.0.8)\n",
            "Requirement already satisfied: protobuf>=3.6.1 in /usr/local/lib/python3.7/dist-packages (from tensorflow==1.13.1) (3.17.3)\n",
            "Requirement already satisfied: termcolor>=1.1.0 in /usr/local/lib/python3.7/dist-packages (from tensorflow==1.13.1) (1.1.0)\n",
            "Requirement already satisfied: astor>=0.6.0 in /usr/local/lib/python3.7/dist-packages (from tensorflow==1.13.1) (0.8.1)\n",
            "Requirement already satisfied: tensorflow-estimator<1.14.0rc0,>=1.13.0 in /usr/local/lib/python3.7/dist-packages (from tensorflow==1.13.1) (1.13.0)\n",
            "Requirement already satisfied: grpcio>=1.8.6 in /usr/local/lib/python3.7/dist-packages (from tensorflow==1.13.1) (1.48.1)\n",
            "Requirement already satisfied: six>=1.10.0 in /usr/local/lib/python3.7/dist-packages (from tensorflow==1.13.1) (1.15.0)\n",
            "Requirement already satisfied: tensorboard<1.14.0,>=1.13.0 in /usr/local/lib/python3.7/dist-packages (from tensorflow==1.13.1) (1.13.1)\n",
            "Requirement already satisfied: numpy>=1.13.3 in /usr/local/lib/python3.7/dist-packages (from tensorflow==1.13.1) (1.21.6)\n",
            "Requirement already satisfied: h5py in /usr/local/lib/python3.7/dist-packages (from keras-applications>=1.0.6->tensorflow==1.13.1) (2.10.0)\n",
            "Requirement already satisfied: werkzeug>=0.11.15 in /usr/local/lib/python3.7/dist-packages (from tensorboard<1.14.0,>=1.13.0->tensorflow==1.13.1) (1.0.1)\n",
            "Requirement already satisfied: markdown>=2.6.8 in /usr/local/lib/python3.7/dist-packages (from tensorboard<1.14.0,>=1.13.0->tensorflow==1.13.1) (3.4.1)\n",
            "Requirement already satisfied: importlib-metadata>=4.4 in /usr/local/lib/python3.7/dist-packages (from markdown>=2.6.8->tensorboard<1.14.0,>=1.13.0->tensorflow==1.13.1) (4.12.0)\n",
            "Requirement already satisfied: zipp>=0.5 in /usr/local/lib/python3.7/dist-packages (from importlib-metadata>=4.4->markdown>=2.6.8->tensorboard<1.14.0,>=1.13.0->tensorflow==1.13.1) (3.8.1)\n",
            "Requirement already satisfied: typing-extensions>=3.6.4 in /usr/local/lib/python3.7/dist-packages (from importlib-metadata>=4.4->markdown>=2.6.8->tensorboard<1.14.0,>=1.13.0->tensorflow==1.13.1) (4.1.1)\n",
            "Requirement already satisfied: mock>=2.0.0 in /usr/local/lib/python3.7/dist-packages (from tensorflow-estimator<1.14.0rc0,>=1.13.0->tensorflow==1.13.1) (4.0.3)\n",
            "Looking in indexes: https://pypi.org/simple, https://us-python.pkg.dev/colab-wheels/public/simple/\n",
            "Requirement already satisfied: keras==2.2.4 in /usr/local/lib/python3.7/dist-packages (2.2.4)\n",
            "Requirement already satisfied: scipy>=0.14 in /usr/local/lib/python3.7/dist-packages (from keras==2.2.4) (1.7.3)\n",
            "Requirement already satisfied: numpy>=1.9.1 in /usr/local/lib/python3.7/dist-packages (from keras==2.2.4) (1.21.6)\n",
            "Requirement already satisfied: six>=1.9.0 in /usr/local/lib/python3.7/dist-packages (from keras==2.2.4) (1.15.0)\n",
            "Requirement already satisfied: keras-applications>=1.0.6 in /usr/local/lib/python3.7/dist-packages (from keras==2.2.4) (1.0.8)\n",
            "Requirement already satisfied: pyyaml in /usr/local/lib/python3.7/dist-packages (from keras==2.2.4) (6.0)\n",
            "Requirement already satisfied: keras-preprocessing>=1.0.5 in /usr/local/lib/python3.7/dist-packages (from keras==2.2.4) (1.1.2)\n",
            "Requirement already satisfied: h5py in /usr/local/lib/python3.7/dist-packages (from keras==2.2.4) (2.10.0)\n",
            "Looking in indexes: https://pypi.org/simple, https://us-python.pkg.dev/colab-wheels/public/simple/\n",
            "Requirement already satisfied: h5py==2.10.0 in /usr/local/lib/python3.7/dist-packages (2.10.0)\n",
            "Requirement already satisfied: six in /usr/local/lib/python3.7/dist-packages (from h5py==2.10.0) (1.15.0)\n",
            "Requirement already satisfied: numpy>=1.7 in /usr/local/lib/python3.7/dist-packages (from h5py==2.10.0) (1.21.6)\n",
            "Looking in indexes: https://pypi.org/simple, https://us-python.pkg.dev/colab-wheels/public/simple/\n",
            "Requirement already satisfied: pandas in /usr/local/lib/python3.7/dist-packages (1.3.5)\n",
            "Requirement already satisfied: pytz>=2017.3 in /usr/local/lib/python3.7/dist-packages (from pandas) (2022.2.1)\n",
            "Requirement already satisfied: python-dateutil>=2.7.3 in /usr/local/lib/python3.7/dist-packages (from pandas) (2.8.2)\n",
            "Requirement already satisfied: numpy>=1.17.3 in /usr/local/lib/python3.7/dist-packages (from pandas) (1.21.6)\n",
            "Requirement already satisfied: six>=1.5 in /usr/local/lib/python3.7/dist-packages (from python-dateutil>=2.7.3->pandas) (1.15.0)\n",
            "Looking in indexes: https://pypi.org/simple, https://us-python.pkg.dev/colab-wheels/public/simple/\n",
            "Requirement already satisfied: seaborn in /usr/local/lib/python3.7/dist-packages (0.11.2)\n",
            "Requirement already satisfied: numpy>=1.15 in /usr/local/lib/python3.7/dist-packages (from seaborn) (1.21.6)\n",
            "Requirement already satisfied: scipy>=1.0 in /usr/local/lib/python3.7/dist-packages (from seaborn) (1.7.3)\n",
            "Requirement already satisfied: pandas>=0.23 in /usr/local/lib/python3.7/dist-packages (from seaborn) (1.3.5)\n",
            "Requirement already satisfied: matplotlib>=2.2 in /usr/local/lib/python3.7/dist-packages (from seaborn) (3.2.2)\n",
            "Requirement already satisfied: python-dateutil>=2.1 in /usr/local/lib/python3.7/dist-packages (from matplotlib>=2.2->seaborn) (2.8.2)\n",
            "Requirement already satisfied: cycler>=0.10 in /usr/local/lib/python3.7/dist-packages (from matplotlib>=2.2->seaborn) (0.11.0)\n",
            "Requirement already satisfied: pyparsing!=2.0.4,!=2.1.2,!=2.1.6,>=2.0.1 in /usr/local/lib/python3.7/dist-packages (from matplotlib>=2.2->seaborn) (3.0.9)\n",
            "Requirement already satisfied: kiwisolver>=1.0.1 in /usr/local/lib/python3.7/dist-packages (from matplotlib>=2.2->seaborn) (1.4.4)\n",
            "Requirement already satisfied: typing-extensions in /usr/local/lib/python3.7/dist-packages (from kiwisolver>=1.0.1->matplotlib>=2.2->seaborn) (4.1.1)\n",
            "Requirement already satisfied: pytz>=2017.3 in /usr/local/lib/python3.7/dist-packages (from pandas>=0.23->seaborn) (2022.2.1)\n",
            "Requirement already satisfied: six>=1.5 in /usr/local/lib/python3.7/dist-packages (from python-dateutil>=2.1->matplotlib>=2.2->seaborn) (1.15.0)\n"
          ]
        }
      ],
      "source": [
        "\n",
        "!pip install opencv-python\n",
        "\n",
        "!pip install tensorflow==1.13.1\n",
        "!pip install keras==2.2.4\n",
        "!pip install h5py==2.10.0\n",
        "!pip install pandas\n",
        "!pip install seaborn\n",
        "!pip install scikit-learn"
      ]
    },
    {
      "cell_type": "markdown",
      "source": [
        "# Rationale PIMA\n",
        "\n",
        "Pima Indian Diabetes Dataset, originally from the National Institute of Diabetes and Digestive and Kidney Diseases, contains information of 768 women from a population near Phoenix, Arizona, USA. The outcome tested was Diabetes onset.\n",
        "\n",
        "# Reference\n",
        "https://www.ncbi.nlm.nih.gov/pmc/articles/PMC4418458/\n",
        "\n",
        "# I. Data Dictionary and description of attributes of the PIMA dataset\n",
        "# II. Prediction Task\n",
        "# To predict the onset of diabetes based on diagnostic measures."
      ],
      "metadata": {
        "id": "ms1UzfToiCRv"
      }
    },
    {
      "cell_type": "code",
      "source": [
        "########## PIMA DATASET DESCRIPTION ###############\n",
        "# This dataset is originally from the National Institute of Diabetes and Digestive and Kidney Diseases.\n",
        "# The objective of the dataset is to diagnostically predict whether or not a patient has diabetes, based on measurements \n",
        "# collected for diagnostic purposes.\n",
        "\n",
        "#I. Data Dictionary and description of attributes of the PIMA dataset\n",
        "\n",
        "# 1. Pregnancies - Number of times pregnant\n",
        "\n",
        "# 2. Glucose - Plasma glucose concentration - 2 hours in an oral glucose tolerance test\n",
        "\n",
        "# 3. BloodPressure - Diastolic blood pressure (mm Hg)\n",
        "\n",
        "# 4. SkinThickness - Triceps skin fold thickness (mm)\n",
        "\n",
        "# 5. Insulin - 2-Hour serum insulin (mu U/ml)\n",
        "\n",
        "# 6. BMI - Body mass index\n",
        "\n",
        "# 7. DiabetesPedigreeFunction - Diabetes pedigree function\n",
        "\n",
        "# 8. Age - Age (years)\n",
        "\n",
        "# 9. Outcome - Class variable (0 or 1)\n",
        "\n",
        "\n",
        "######### PIMA DATASET DESCRIPTION ###############\n"
      ],
      "metadata": {
        "id": "c2PI4p8X0EIK"
      },
      "execution_count": null,
      "outputs": []
    },
    {
      "cell_type": "code",
      "execution_count": 1,
      "metadata": {
        "colab": {
          "base_uri": "https://localhost:8080/"
        },
        "id": "dh3Sq_idajvQ",
        "outputId": "c84e79d2-53b6-4814-9bcb-a41d72f53c89"
      },
      "outputs": [
        {
          "output_type": "stream",
          "name": "stdout",
          "text": [
            "Mounted at /content/gdrive\n",
            "(768, 8) (768,)\n",
            "(768, 9)\n",
            "   preg  Glucose  BP  ST  Insulin   BMI    DPF  Age  Outcome\n",
            "0     6      148  72  35        0  33.6  0.627   50        1\n",
            "1     1       85  66  29        0  26.6  0.351   31        0\n",
            "2     8      183  64   0        0  23.3  0.672   32        1\n",
            "3     1       89  66  23       94  28.1  0.167   21        0\n",
            "4     0      137  40  35      168  43.1  2.288   33        1\n",
            "preg         int64\n",
            "Glucose      int64\n",
            "BP           int64\n",
            "ST           int64\n",
            "Insulin      int64\n",
            "BMI        float64\n",
            "DPF        float64\n",
            "Age          int64\n",
            "Outcome      int64\n",
            "dtype: object\n",
            "[1 0]\n",
            "preg       0\n",
            "Glucose    0\n",
            "BP         0\n",
            "ST         0\n",
            "Insulin    0\n",
            "BMI        0\n",
            "DPF        0\n",
            "Age        0\n",
            "Outcome    0\n",
            "dtype: int64\n"
          ]
        }
      ],
      "source": [
        "# Create your MLP for pima-indian-diabetes dataset in Keras\n",
        "# Create your first MLP in Keras\n",
        "import tensorflow as tf\n",
        "from tensorflow.python.keras.models import Sequential\n",
        "from tensorflow.python.keras.layers import Dense\n",
        "import numpy as np\n",
        "\n",
        "# initialising and mounting colab\n",
        "from google.colab import drive\n",
        "drive.mount('/content/gdrive')\n",
        "\n",
        "\n",
        "# fix random seed for reproducibility\n",
        "np.random.seed(9)\n",
        "# load pima indians dataset\n",
        "dataset = np.loadtxt(\"/content/gdrive/MyDrive/Colab Notebooks/pima-indians-diabetes.csv\", delimiter=\",\")\n",
        "\n",
        "# split into input (X) and output (Y) variables\n",
        "X = dataset[:,0:8]\n",
        "Y = dataset[:,8]\n",
        "\n",
        "print(X.shape, Y.shape)\n",
        "import pandas as pd\n",
        "columns = ['preg', 'Glucose', 'BP', 'ST', 'Insulin', 'BMI', 'DPF', 'Age', 'Outcome']\n",
        "df = pd.read_csv(\"/content/gdrive/MyDrive/Colab Notebooks/pima-indians-diabetes.csv\", header=None,\n",
        "                       names=columns)\n",
        "print(df.shape)\n",
        "print(df.head(5))\n",
        "\n",
        "print(df.dtypes)\n",
        "\n",
        "print(df.Outcome.unique())\n",
        "\n",
        "\n",
        "dict = {}\n",
        "for i in list(df.columns):\n",
        "    dict[i] = df[i].value_counts().shape[0]\n",
        "\n",
        "pd.DataFrame(dict,index=[\"unique count\"]).transpose()\n",
        "\n",
        "##################################################\n",
        "# Find missing values #\n",
        "\n",
        "print(df.isnull().sum())\n"
      ]
    },
    {
      "cell_type": "code",
      "source": [
        "\n",
        "import matplotlib.pyplot as plt\n",
        "import seaborn as sns\n",
        "######### Exploratory visualisation ###################################\n",
        "print(df.Outcome.value_counts())\n",
        "plt.hist([\n",
        "    df.Outcome[df.Outcome == 1],\n",
        "    df.Outcome[df.Outcome == 0],\n",
        "], label=['Diabetic', 'non-Diabetic'])\n",
        "plt.ylabel('Frequency')\n",
        "plt.xlabel('Outcome')\n",
        "plt.legend()\n",
        "plt.show()\n",
        "\n",
        "############ PIE CHART ####################################################\n",
        "df.groupby(['Outcome']).sum().plot(kind='pie', y='preg', autopct='%1.0f%%',\n",
        "                                colors = ['red','steelblue'],\n",
        "                                title='Patient categories')\n",
        "\n",
        "#2. ######################################################################\n",
        "\n",
        "df_corr = df.corr().transpose()\n",
        "df_corr"
      ],
      "metadata": {
        "colab": {
          "base_uri": "https://localhost:8080/",
          "height": 893
        },
        "id": "E5UHNNlH8wl_",
        "outputId": "7d2f3aea-f06c-447b-8657-0859a6af5c1c"
      },
      "execution_count": 6,
      "outputs": [
        {
          "output_type": "stream",
          "name": "stdout",
          "text": [
            "0    500\n",
            "1    268\n",
            "Name: Outcome, dtype: int64\n"
          ]
        },
        {
          "output_type": "display_data",
          "data": {
            "text/plain": [
              "<Figure size 432x288 with 1 Axes>"
            ],
            "image/png": "[encoded data removed]"
          },
          "metadata": {
            "needs_background": "light"
          }
        },
        {
          "output_type": "execute_result",
          "data": {
            "text/plain": [
              "             preg   Glucose        BP        ST   Insulin       BMI       DPF  \\\n",
              "preg     1.000000  0.129459  0.141282 -0.081672 -0.073535  0.017683 -0.033523   \n",
              "Glucose  0.129459  1.000000  0.152590  0.057328  0.331357  0.221071  0.137337   \n",
              "BP       0.141282  0.152590  1.000000  0.207371  0.088933  0.281805  0.041265   \n",
              "ST      -0.081672  0.057328  0.207371  1.000000  0.436783  0.392573  0.183928   \n",
              "Insulin -0.073535  0.331357  0.088933  0.436783  1.000000  0.197859  0.185071   \n",
              "BMI      0.017683  0.221071  0.281805  0.392573  0.197859  1.000000  0.140647   \n",
              "DPF     -0.033523  0.137337  0.041265  0.183928  0.185071  0.140647  1.000000   \n",
              "Age      0.544341  0.263514  0.239528 -0.113970 -0.042163  0.036242  0.033561   \n",
              "Outcome  0.221898  0.466581  0.065068  0.074752  0.130548  0.292695  0.173844   \n",
              "\n",
              "              Age   Outcome  \n",
              "preg     0.544341  0.221898  \n",
              "Glucose  0.263514  0.466581  \n",
              "BP       0.239528  0.065068  \n",
              "ST      -0.113970  0.074752  \n",
              "Insulin -0.042163  0.130548  \n",
              "BMI      0.036242  0.292695  \n",
              "DPF      0.033561  0.173844  \n",
              "Age      1.000000  0.238356  \n",
              "Outcome  0.238356  1.000000  "
            ],
            "text/html": [
              "\n",
              "  <div id=\"df-4fa4862d-d5de-48a0-bf15-deb5ac3d5f21\">\n",
              "    <div class=\"colab-df-container\">\n",
              "      <div>\n",
              "<style scoped>\n",
              "    .dataframe tbody tr th:only-of-type {\n",
              "        vertical-align: middle;\n",
              "    }\n",
              "\n",
              "    .dataframe tbody tr th {\n",
              "        vertical-align: top;\n",
              "    }\n",
              "\n",
              "    .dataframe thead th {\n",
              "        text-align: right;\n",
              "    }\n",
              "</style>\n",
              "<table border=\"1\" class=\"dataframe\">\n",
              "  <thead>\n",
              "    <tr style=\"text-align: right;\">\n",
              "      <th></th>\n",
              "      <th>preg</th>\n",
              "      <th>Glucose</th>\n",
              "      <th>BP</th>\n",
              "      <th>ST</th>\n",
              "      <th>Insulin</th>\n",
              "      <th>BMI</th>\n",
              "      <th>DPF</th>\n",
              "      <th>Age</th>\n",
              "      <th>Outcome</th>\n",
              "    </tr>\n",
              "  </thead>\n",
              "  <tbody>\n",
              "    <tr>\n",
              "      <th>preg</th>\n",
              "      <td>1.000000</td>\n",
              "      <td>0.129459</td>\n",
              "      <td>0.141282</td>\n",
              "      <td>-0.081672</td>\n",
              "      <td>-0.073535</td>\n",
              "      <td>0.017683</td>\n",
              "      <td>-0.033523</td>\n",
              "      <td>0.544341</td>\n",
              "      <td>0.221898</td>\n",
              "    </tr>\n",
              "    <tr>\n",
              "      <th>Glucose</th>\n",
              "      <td>0.129459</td>\n",
              "      <td>1.000000</td>\n",
              "      <td>0.152590</td>\n",
              "      <td>0.057328</td>\n",
              "      <td>0.331357</td>\n",
              "      <td>0.221071</td>\n",
              "      <td>0.137337</td>\n",
              "      <td>0.263514</td>\n",
              "      <td>0.466581</td>\n",
              "    </tr>\n",
              "    <tr>\n",
              "      <th>BP</th>\n",
              "      <td>0.141282</td>\n",
              "      <td>0.152590</td>\n",
              "      <td>1.000000</td>\n",
              "      <td>0.207371</td>\n",
              "      <td>0.088933</td>\n",
              "      <td>0.281805</td>\n",
              "      <td>0.041265</td>\n",
              "      <td>0.239528</td>\n",
              "      <td>0.065068</td>\n",
              "    </tr>\n",
              "    <tr>\n",
              "      <th>ST</th>\n",
              "      <td>-0.081672</td>\n",
              "      <td>0.057328</td>\n",
              "      <td>0.207371</td>\n",
              "      <td>1.000000</td>\n",
              "      <td>0.436783</td>\n",
              "      <td>0.392573</td>\n",
              "      <td>0.183928</td>\n",
              "      <td>-0.113970</td>\n",
              "      <td>0.074752</td>\n",
              "    </tr>\n",
              "    <tr>\n",
              "      <th>Insulin</th>\n",
              "      <td>-0.073535</td>\n",
              "      <td>0.331357</td>\n",
              "      <td>0.088933</td>\n",
              "      <td>0.436783</td>\n",
              "      <td>1.000000</td>\n",
              "      <td>0.197859</td>\n",
              "      <td>0.185071</td>\n",
              "      <td>-0.042163</td>\n",
              "      <td>0.130548</td>\n",
              "    </tr>\n",
              "    <tr>\n",
              "      <th>BMI</th>\n",
              "      <td>0.017683</td>\n",
              "      <td>0.221071</td>\n",
              "      <td>0.281805</td>\n",
              "      <td>0.392573</td>\n",
              "      <td>0.197859</td>\n",
              "      <td>1.000000</td>\n",
              "      <td>0.140647</td>\n",
              "      <td>0.036242</td>\n",
              "      <td>0.292695</td>\n",
              "    </tr>\n",
              "    <tr>\n",
              "      <th>DPF</th>\n",
              "      <td>-0.033523</td>\n",
              "      <td>0.137337</td>\n",
              "      <td>0.041265</td>\n",
              "      <td>0.183928</td>\n",
              "      <td>0.185071</td>\n",
              "      <td>0.140647</td>\n",
              "      <td>1.000000</td>\n",
              "      <td>0.033561</td>\n",
              "      <td>0.173844</td>\n",
              "    </tr>\n",
              "    <tr>\n",
              "      <th>Age</th>\n",
              "      <td>0.544341</td>\n",
              "      <td>0.263514</td>\n",
              "      <td>0.239528</td>\n",
              "      <td>-0.113970</td>\n",
              "      <td>-0.042163</td>\n",
              "      <td>0.036242</td>\n",
              "      <td>0.033561</td>\n",
              "      <td>1.000000</td>\n",
              "      <td>0.238356</td>\n",
              "    </tr>\n",
              "    <tr>\n",
              "      <th>Outcome</th>\n",
              "      <td>0.221898</td>\n",
              "      <td>0.466581</td>\n",
              "      <td>0.065068</td>\n",
              "      <td>0.074752</td>\n",
              "      <td>0.130548</td>\n",
              "      <td>0.292695</td>\n",
              "      <td>0.173844</td>\n",
              "      <td>0.238356</td>\n",
              "      <td>1.000000</td>\n",
              "    </tr>\n",
              "  </tbody>\n",
              "</table>\n",
              "</div>\n",
              "      <button class=\"colab-df-convert\" onclick=\"convertToInteractive('df-4fa4862d-d5de-48a0-bf15-deb5ac3d5f21')\"\n",
              "              title=\"Convert this dataframe to an interactive table.\"\n",
              "              style=\"display:none;\">\n",
              "        \n",
              "  <svg xmlns=\"http://www.w3.org/2000/svg\" height=\"24px\"viewBox=\"0 0 24 24\"\n",
              "       width=\"24px\">\n",
              "    <path d=\"M0 0h24v24H0V0z\" fill=\"none\"/>\n",
              "    <path d=\"M18.56 5.44l.94 2.06.94-2.06 2.06-.94-2.06-.94-.94-2.06-.94 2.06-2.06.94zm-11 1L8.5 8.5l.94-2.06 2.06-.94-2.06-.94L8.5 2.5l-.94 2.06-2.06.94zm10 10l.94 2.06.94-2.06 2.06-.94-2.06-.94-.94-2.06-.94 2.06-2.06.94z\"/><path d=\"M17.41 7.96l-1.37-1.37c-.4-.4-.92-.59-1.43-.59-.52 0-1.04.2-1.43.59L10.3 9.45l-7.72 7.72c-.78.78-.78 2.05 0 2.83L4 21.41c.39.39.9.59 1.41.59.51 0 1.02-.2 1.41-.59l7.78-7.78 2.81-2.81c.8-.78.8-2.07 0-2.86zM5.41 20L4 18.59l7.72-7.72 1.47 1.35L5.41 20z\"/>\n",
              "  </svg>\n",
              "      </button>\n",
              "      \n",
              "  <style>\n",
              "    .colab-df-container {\n",
              "      display:flex;\n",
              "      flex-wrap:wrap;\n",
              "      gap: 12px;\n",
              "    }\n",
              "\n",
              "    .colab-df-convert {\n",
              "      background-color: #E8F0FE;\n",
              "      border: none;\n",
              "      border-radius: 50%;\n",
              "      cursor: pointer;\n",
              "      display: none;\n",
              "      fill: #1967D2;\n",
              "      height: 32px;\n",
              "      padding: 0 0 0 0;\n",
              "      width: 32px;\n",
              "    }\n",
              "\n",
              "    .colab-df-convert:hover {\n",
              "      background-color: #E2EBFA;\n",
              "      box-shadow: 0px 1px 2px rgba(60, 64, 67, 0.3), 0px 1px 3px 1px rgba(60, 64, 67, 0.15);\n",
              "      fill: #174EA6;\n",
              "    }\n",
              "\n",
              "    [theme=dark] .colab-df-convert {\n",
              "      background-color: #3B4455;\n",
              "      fill: #D2E3FC;\n",
              "    }\n",
              "\n",
              "    [theme=dark] .colab-df-convert:hover {\n",
              "      background-color: #434B5C;\n",
              "      box-shadow: 0px 1px 3px 1px rgba(0, 0, 0, 0.15);\n",
              "      filter: drop-shadow(0px 1px 2px rgba(0, 0, 0, 0.3));\n",
              "      fill: #FFFFFF;\n",
              "    }\n",
              "  </style>\n",
              "\n",
              "      <script>\n",
              "        const buttonEl =\n",
              "          document.querySelector('#df-4fa4862d-d5de-48a0-bf15-deb5ac3d5f21 button.colab-df-convert');\n",
              "        buttonEl.style.display =\n",
              "          google.colab.kernel.accessAllowed ? 'block' : 'none';\n",
              "\n",
              "        async function convertToInteractive(key) {\n",
              "          const element = document.querySelector('#df-4fa4862d-d5de-48a0-bf15-deb5ac3d5f21');\n",
              "          const dataTable =\n",
              "            await google.colab.kernel.invokeFunction('convertToInteractive',\n",
              "                                                     [key], {});\n",
              "          if (!dataTable) return;\n",
              "\n",
              "          const docLinkHtml = 'Like what you see? Visit the ' +\n",
              "            '<a target=\"_blank\" href=https://colab.research.google.com/notebooks/data_table.ipynb>data table notebook</a>'\n",
              "            + ' to learn more about interactive tables.';\n",
              "          element.innerHTML = '';\n",
              "          dataTable['output_type'] = 'display_data';\n",
              "          await google.colab.output.renderOutput(dataTable, element);\n",
              "          const docLink = document.createElement('div');\n",
              "          docLink.innerHTML = docLinkHtml;\n",
              "          element.appendChild(docLink);\n",
              "        }\n",
              "      </script>\n",
              "    </div>\n",
              "  </div>\n",
              "  "
            ]
          },
          "metadata": {},
          "execution_count": 6
        },
        {
          "output_type": "display_data",
          "data": {
            "text/plain": [
              "<Figure size 432x288 with 1 Axes>"
            ],
            "image/png": "[encoded data removed]"
          },
          "metadata": {}
        }
      ]
    },
    {
      "cell_type": "code",
      "source": [
        "cor = df.corr(method ='pearson')\n",
        "sns.heatmap(cor)"
      ],
      "metadata": {
        "colab": {
          "base_uri": "https://localhost:8080/",
          "height": 322
        },
        "id": "rfmLdbbHc4wr",
        "outputId": "64d966a1-86f0-491b-f1a7-e345a98c7b6e"
      },
      "execution_count": null,
      "outputs": [
        {
          "output_type": "execute_result",
          "data": {
            "text/plain": [
              "<matplotlib.axes._subplots.AxesSubplot at 0x7f1e10255a90>"
            ]
          },
          "metadata": {},
          "execution_count": 80
        },
        {
          "output_type": "display_data",
          "data": {
            "text/plain": [
              "<Figure size 432x288 with 2 Axes>"
            ],
            "image/png": "[encoded data removed]"
          },
          "metadata": {
            "needs_background": "light"
          }
        }
      ]
    },
    {
      "cell_type": "code",
      "source": [
        "fig, ax = plt.subplots(figsize=(10,8))\n",
        "sns.countplot(x=df.Outcome, label=['non-Diab', 'Diab'])\n",
        "plt.title(\"Count Plot for Outcome\")\n",
        "labels = [item.get_text() for item in ax.get_xticklabels()]\n",
        "#print(labels)\n",
        "labels[0] = 'non-Diab'\n",
        "labels[1] = 'Diab'\n",
        "ax.set_xticklabels(labels)\n",
        "ax.legend(['non-Diab', 'Diab'], loc=1)\n",
        "#plt.legend(loc='upper right')\n",
        "plt.show()\n",
        "\n",
        "## Feature 1 'Preg' #########\n",
        "sns.boxplot(x=df.Outcome, y=df.preg)\n",
        "plt.title(\"Boxplot for glucose by Outcome\")\n",
        "#plt.legend()\n",
        "plt.show()\n",
        "\n",
        "### visualisation of Feature 2 and Glucose plot by category of the patient\n",
        "fig, ax = plt.subplots(figsize=(10,6))\n",
        "sns.boxplot(x=df.Outcome, y=df.Glucose)\n",
        "plt.title(\"Boxplot for glucose by Outcome\")\n",
        "#plt.legend()\n",
        "plt.show()\n",
        "\n",
        "### visualisation of Insulin Feature and Insulin plot by category of the patient\n",
        "sns.boxplot(x=df.Outcome, y=df.Insulin)\n",
        "plt.title(\"Boxplot for Insulin by Outcome\")\n",
        "#plt.legend()\n",
        "plt.show()\n",
        "\n",
        "### visualisation of Age Feature and Age plot by category of the patient\n",
        "fig, ax = plt.subplots(figsize=(10,6))\n",
        "sns.boxplot(x=df.Outcome, y=df.Age)\n",
        "plt.title(\"Boxplot for Age by Outcome\")\n",
        "#plt.legend()\n",
        "labels = [item.get_text() for item in ax.get_xticklabels()]\n",
        "labels[0] = 'ND'\n",
        "labels[1] = 'D'\n",
        "ax.set_xticklabels(labels)\n",
        "ax.legend(labels, loc=2)\n",
        "plt.show()\n",
        "\n",
        "\n",
        "\n",
        "\n"
      ],
      "metadata": {
        "colab": {
          "base_uri": "https://localhost:8080/",
          "height": 1000
        },
        "id": "MQekCmWY_bNk",
        "outputId": "a9e22514-8760-4b02-a8c2-887469112d55"
      },
      "execution_count": null,
      "outputs": [
        {
          "output_type": "stream",
          "name": "stdout",
          "text": [
            "['0', '1']\n"
          ]
        },
        {
          "output_type": "display_data",
          "data": {
            "text/plain": [
              "<Figure size 720x576 with 1 Axes>"
            ],
            "image/png": "[encoded data removed]"
          },
          "metadata": {
            "needs_background": "light"
          }
        },
        {
          "output_type": "display_data",
          "data": {
            "text/plain": [
              "<Figure size 432x288 with 1 Axes>"
            ],
            "image/png": "[encoded data removed]"
          },
          "metadata": {
            "needs_background": "light"
          }
        },
        {
          "output_type": "display_data",
          "data": {
            "text/plain": [
              "<Figure size 720x432 with 1 Axes>"
            ],
            "image/png": "[encoded data removed]"
          },
          "metadata": {
            "needs_background": "light"
          }
        },
        {
          "output_type": "display_data",
          "data": {
            "text/plain": [
              "<Figure size 432x288 with 1 Axes>"
            ],
            "image/png": "[encoded data removed]"
          },
          "metadata": {
            "needs_background": "light"
          }
        },
        {
          "output_type": "display_data",
          "data": {
            "text/plain": [
              "<Figure size 720x432 with 1 Axes>"
            ],
            "image/png": "[encoded data removed]"
          },
          "metadata": {
            "needs_background": "light"
          }
        }
      ]
    },
    {
      "cell_type": "code",
      "source": [
        "############## BMI Measurement variable ############\n",
        "# Computing the percentage of diabetic and non-diabetic in the given dataset\n",
        "Out_D = len(df[df.Outcome==1])\n",
        "Out_ND = len(df[df.Outcome==0])\n",
        "Total = Out_D+Out_ND\n",
        "PC_of_D = Out_D*100/Total\n",
        "PC_of_ND = Out_ND*100/Total\n",
        "\n",
        "print(PC_of_D, PC_of_ND)\n",
        "\n",
        "############################################################################\n",
        "#subset of the dataframe values belonging to Diabetes category of patients\n",
        "df_D = df[df.Outcome==1]\n",
        "\n",
        "print(df_D.shape)\n",
        "\n",
        "#subset of the dataframe values belonging to non-Diabetes category\n",
        "\n",
        "df_ND = df[df.Outcome==0]\n",
        "\n",
        "print(df_ND.shape)\n",
        "\n",
        "\n",
        "plt.figure(figsize=(20, 6))\n",
        "plt.subplot(1,3,1)\n",
        "sns.distplot(df.BMI, kde=False)\n",
        "plt.title(\"Histogram for BMI\")\n",
        "plt.subplot(1,3,2)\n",
        "sns.distplot(df_D.BMI, kde=False,color=\"Green\", label=\"BMI for Outcome=1\")\n",
        "sns.distplot(df_ND.BMI, kde=False, color=\"Blue\", label=\"BMI for Outcome=0\")\n",
        "plt.legend()\n",
        "plt.title(\"Histogram for BMI by Outcome\")\n",
        "plt.subplot(1,3,3)\n",
        "sns.boxplot(x=df.Outcome, y=df.BMI)\n",
        "plt.legend()\n",
        "plt.title(\"Boxplot for BMI by Outcome\")\n"
      ],
      "metadata": {
        "colab": {
          "base_uri": "https://localhost:8080/",
          "height": 532
        },
        "id": "_klxJcpUH5PY",
        "outputId": "6008af81-b86e-4f92-a043-dedbf030f7b2"
      },
      "execution_count": null,
      "outputs": [
        {
          "output_type": "stream",
          "name": "stderr",
          "text": [
            "/usr/local/lib/python3.7/dist-packages/seaborn/distributions.py:2619: FutureWarning: `distplot` is a deprecated function and will be removed in a future version. Please adapt your code to use either `displot` (a figure-level function with similar flexibility) or `histplot` (an axes-level function for histograms).\n",
            "  warnings.warn(msg, FutureWarning)\n",
            "WARNING:matplotlib.legend:No handles with labels found to put in legend.\n"
          ]
        },
        {
          "output_type": "stream",
          "name": "stdout",
          "text": [
            "34.895833333333336 65.10416666666667\n",
            "(268, 9)\n",
            "(500, 9)\n"
          ]
        },
        {
          "output_type": "execute_result",
          "data": {
            "text/plain": [
              "Text(0.5, 1.0, 'Boxplot for BMI by Outcome')"
            ]
          },
          "metadata": {},
          "execution_count": 66
        },
        {
          "output_type": "display_data",
          "data": {
            "text/plain": [
              "<Figure size 1440x432 with 3 Axes>"
            ],
            "image/png": "[encoded data removed]"
          },
          "metadata": {
            "needs_background": "light"
          }
        }
      ]
    },
    {
      "cell_type": "code",
      "source": [
        "# Basic logistic regression\n",
        "from sklearn.linear_model import LogisticRegression\n",
        "logreg = LogisticRegression()\n",
        "cols4=[\"preg\", \"Glucose\",\"BP\", \"Insulin\", \"Age\"]\n",
        "X=df[cols4]\n",
        "y=df.Outcome\n",
        "logreg.fit(X,y)\n",
        "## Defining the y_pred variable for the predicting values. I have taken 392 dia dataset. We can also take a test dataset\n",
        "y_pred=logreg.predict(X)\n",
        "## Calculating the precision of the model\n",
        "from sklearn.metrics import classification_report\n",
        "print(classification_report(y, y_pred))\n",
        "\n",
        "from sklearn.metrics import confusion_matrix\n",
        "## Confusion matrix gives the number of cases where the model is able to accurately predict the outcomes.. both 1 and 0 and how many cases it gives false positive and false negatives\n",
        "confusion_matrix = confusion_matrix(y, y_pred)\n",
        "print(confusion_matrix)\n"
      ],
      "metadata": {
        "colab": {
          "base_uri": "https://localhost:8080/"
        },
        "id": "Po5OUyDSeJtt",
        "outputId": "6e38ca1a-e65f-41db-ed64-0bbe30290896"
      },
      "execution_count": null,
      "outputs": [
        {
          "output_type": "stream",
          "name": "stdout",
          "text": [
            "              precision    recall  f1-score   support\n",
            "\n",
            "           0       0.77      0.88      0.82       500\n",
            "           1       0.69      0.51      0.59       268\n",
            "\n",
            "    accuracy                           0.75       768\n",
            "   macro avg       0.73      0.70      0.71       768\n",
            "weighted avg       0.74      0.75      0.74       768\n",
            "\n",
            "[[439  61]\n",
            " [130 138]]\n"
          ]
        }
      ]
    },
    {
      "cell_type": "code",
      "source": [
        "# For 2D features we only use dense features\n",
        "# Train all data without any testing and validation split specification\n",
        "import h5py\n",
        "# create model\n",
        "model = Sequential()\n",
        "model.add(Dense(12, input_dim=8, activation='relu'))\n",
        "model.add(Dense(8, activation='relu'))\n",
        "model.add(Dense(1, activation='sigmoid'))\n",
        "# Compile model\n",
        "model.compile(loss='binary_crossentropy', optimizer='adam', metrics=['accuracy'])\n",
        "# Fit the model\n",
        "model.fit(X, Y, epochs=100, batch_size=10)\n",
        "# evaluate the model\n",
        "scores = model.evaluate(X, Y)\n",
        "print(\"\\n%s: %.2f%%\" % (model.metrics_names[1], scores[1]*100))\n",
        "\n",
        "model.save('/content/gdrive/MyDrive/Colab Notebooks/pima_categorical/baseline-pima_without_validation-split.hdf5')"
      ],
      "metadata": {
        "colab": {
          "base_uri": "https://localhost:8080/"
        },
        "id": "znoD6zt-1avF",
        "outputId": "0fa66525-6795-419f-e41c-004c3a25f50b"
      },
      "execution_count": null,
      "outputs": [
        {
          "output_type": "stream",
          "name": "stdout",
          "text": [
            "Epoch 1/100\n",
            "768/768 [==============================] - 0s 424us/sample - loss: 3.4921 - acc: 0.6576\n",
            "Epoch 2/100\n",
            "768/768 [==============================] - 0s 153us/sample - loss: 2.0241 - acc: 0.6211\n",
            "Epoch 3/100\n",
            "768/768 [==============================] - 0s 157us/sample - loss: 1.3732 - acc: 0.6263\n",
            "Epoch 4/100\n",
            "768/768 [==============================] - 0s 155us/sample - loss: 1.1271 - acc: 0.6393\n",
            "Epoch 5/100\n",
            "768/768 [==============================] - 0s 150us/sample - loss: 1.0601 - acc: 0.6510\n",
            "Epoch 6/100\n",
            "768/768 [==============================] - 0s 178us/sample - loss: 0.9089 - acc: 0.6289\n",
            "Epoch 7/100\n",
            "768/768 [==============================] - 0s 165us/sample - loss: 0.7995 - acc: 0.6589\n",
            "Epoch 8/100\n",
            "768/768 [==============================] - 0s 173us/sample - loss: 0.7620 - acc: 0.6641\n",
            "Epoch 9/100\n",
            "768/768 [==============================] - 0s 159us/sample - loss: 0.7496 - acc: 0.6641\n",
            "Epoch 10/100\n",
            "768/768 [==============================] - 0s 166us/sample - loss: 0.7019 - acc: 0.6719\n",
            "Epoch 11/100\n",
            "768/768 [==============================] - 0s 151us/sample - loss: 0.6905 - acc: 0.6641\n",
            "Epoch 12/100\n",
            "768/768 [==============================] - 0s 163us/sample - loss: 0.6338 - acc: 0.6745\n",
            "Epoch 13/100\n",
            "768/768 [==============================] - 0s 153us/sample - loss: 0.6401 - acc: 0.6758\n",
            "Epoch 14/100\n",
            "768/768 [==============================] - 0s 162us/sample - loss: 0.6224 - acc: 0.6862\n",
            "Epoch 15/100\n",
            "768/768 [==============================] - 0s 169us/sample - loss: 0.5908 - acc: 0.7109\n",
            "Epoch 16/100\n",
            "768/768 [==============================] - 0s 176us/sample - loss: 0.6089 - acc: 0.6992\n",
            "Epoch 17/100\n",
            "768/768 [==============================] - 0s 160us/sample - loss: 0.6087 - acc: 0.7031\n",
            "Epoch 18/100\n",
            "768/768 [==============================] - 0s 161us/sample - loss: 0.6402 - acc: 0.6771\n",
            "Epoch 19/100\n",
            "768/768 [==============================] - 0s 167us/sample - loss: 0.5756 - acc: 0.7070\n",
            "Epoch 20/100\n",
            "768/768 [==============================] - 0s 181us/sample - loss: 0.6142 - acc: 0.6810\n",
            "Epoch 21/100\n",
            "768/768 [==============================] - 0s 160us/sample - loss: 0.5831 - acc: 0.7148\n",
            "Epoch 22/100\n",
            "768/768 [==============================] - 0s 167us/sample - loss: 0.5699 - acc: 0.7266\n",
            "Epoch 23/100\n",
            "768/768 [==============================] - 0s 202us/sample - loss: 0.5829 - acc: 0.7305\n",
            "Epoch 24/100\n",
            "768/768 [==============================] - 0s 170us/sample - loss: 0.5803 - acc: 0.7148\n",
            "Epoch 25/100\n",
            "768/768 [==============================] - 0s 176us/sample - loss: 0.5826 - acc: 0.7122\n",
            "Epoch 26/100\n",
            "768/768 [==============================] - 0s 176us/sample - loss: 0.5646 - acc: 0.7188\n",
            "Epoch 27/100\n",
            "768/768 [==============================] - 0s 167us/sample - loss: 0.5740 - acc: 0.7214\n",
            "Epoch 28/100\n",
            "768/768 [==============================] - 0s 167us/sample - loss: 0.5685 - acc: 0.7214\n",
            "Epoch 29/100\n",
            "768/768 [==============================] - 0s 155us/sample - loss: 0.5658 - acc: 0.7227\n",
            "Epoch 30/100\n",
            "768/768 [==============================] - 0s 164us/sample - loss: 0.5623 - acc: 0.7161\n",
            "Epoch 31/100\n",
            "768/768 [==============================] - 0s 176us/sample - loss: 0.5554 - acc: 0.7331\n",
            "Epoch 32/100\n",
            "768/768 [==============================] - 0s 158us/sample - loss: 0.5661 - acc: 0.7396\n",
            "Epoch 33/100\n",
            "768/768 [==============================] - 0s 153us/sample - loss: 0.5628 - acc: 0.7201\n",
            "Epoch 34/100\n",
            "768/768 [==============================] - 0s 171us/sample - loss: 0.5582 - acc: 0.7370\n",
            "Epoch 35/100\n",
            "768/768 [==============================] - 0s 150us/sample - loss: 0.5823 - acc: 0.7135\n",
            "Epoch 36/100\n",
            "768/768 [==============================] - 0s 161us/sample - loss: 0.5833 - acc: 0.7148\n",
            "Epoch 37/100\n",
            "768/768 [==============================] - 0s 160us/sample - loss: 0.5511 - acc: 0.7409\n",
            "Epoch 38/100\n",
            "768/768 [==============================] - 0s 156us/sample - loss: 0.5727 - acc: 0.7279\n",
            "Epoch 39/100\n",
            "768/768 [==============================] - 0s 184us/sample - loss: 0.6421 - acc: 0.7005\n",
            "Epoch 40/100\n",
            "768/768 [==============================] - 0s 167us/sample - loss: 0.5903 - acc: 0.7122\n",
            "Epoch 41/100\n",
            "768/768 [==============================] - 0s 194us/sample - loss: 0.5588 - acc: 0.7305\n",
            "Epoch 42/100\n",
            "768/768 [==============================] - 0s 164us/sample - loss: 0.5588 - acc: 0.7357\n",
            "Epoch 43/100\n",
            "768/768 [==============================] - 0s 180us/sample - loss: 0.5503 - acc: 0.7344\n",
            "Epoch 44/100\n",
            "768/768 [==============================] - 0s 154us/sample - loss: 0.5610 - acc: 0.7227\n",
            "Epoch 45/100\n",
            "768/768 [==============================] - 0s 157us/sample - loss: 0.5731 - acc: 0.7331\n",
            "Epoch 46/100\n",
            "768/768 [==============================] - 0s 177us/sample - loss: 0.5441 - acc: 0.7539\n",
            "Epoch 47/100\n",
            "768/768 [==============================] - 0s 165us/sample - loss: 0.5623 - acc: 0.7227\n",
            "Epoch 48/100\n",
            "768/768 [==============================] - 0s 177us/sample - loss: 0.5738 - acc: 0.7214\n",
            "Epoch 49/100\n",
            "768/768 [==============================] - 0s 182us/sample - loss: 0.5547 - acc: 0.7227\n",
            "Epoch 50/100\n",
            "768/768 [==============================] - 0s 175us/sample - loss: 0.5542 - acc: 0.7292\n",
            "Epoch 51/100\n",
            "768/768 [==============================] - 0s 164us/sample - loss: 0.5672 - acc: 0.7396\n",
            "Epoch 52/100\n",
            "768/768 [==============================] - 0s 165us/sample - loss: 0.5876 - acc: 0.7409\n",
            "Epoch 53/100\n",
            "768/768 [==============================] - 0s 193us/sample - loss: 0.5533 - acc: 0.7279\n",
            "Epoch 54/100\n",
            "768/768 [==============================] - 0s 183us/sample - loss: 0.5755 - acc: 0.7357\n",
            "Epoch 55/100\n",
            "768/768 [==============================] - 0s 173us/sample - loss: 0.5599 - acc: 0.7500\n",
            "Epoch 56/100\n",
            "768/768 [==============================] - 0s 166us/sample - loss: 0.5369 - acc: 0.7383\n",
            "Epoch 57/100\n",
            "768/768 [==============================] - 0s 164us/sample - loss: 0.5898 - acc: 0.7096\n",
            "Epoch 58/100\n",
            "768/768 [==============================] - 0s 162us/sample - loss: 0.5774 - acc: 0.7201\n",
            "Epoch 59/100\n",
            "768/768 [==============================] - 0s 168us/sample - loss: 0.5521 - acc: 0.7201\n",
            "Epoch 60/100\n",
            "768/768 [==============================] - 0s 163us/sample - loss: 0.5481 - acc: 0.7357\n",
            "Epoch 61/100\n",
            "768/768 [==============================] - 0s 175us/sample - loss: 0.5480 - acc: 0.7422\n",
            "Epoch 62/100\n",
            "768/768 [==============================] - 0s 161us/sample - loss: 0.5326 - acc: 0.7513\n",
            "Epoch 63/100\n",
            "768/768 [==============================] - 0s 162us/sample - loss: 0.5394 - acc: 0.7409\n",
            "Epoch 64/100\n",
            "768/768 [==============================] - 0s 166us/sample - loss: 0.5454 - acc: 0.7331\n",
            "Epoch 65/100\n",
            "768/768 [==============================] - 0s 161us/sample - loss: 0.5456 - acc: 0.7448\n",
            "Epoch 66/100\n",
            "768/768 [==============================] - 0s 161us/sample - loss: 0.5522 - acc: 0.7435\n",
            "Epoch 67/100\n",
            "768/768 [==============================] - 0s 160us/sample - loss: 0.5603 - acc: 0.7318\n",
            "Epoch 68/100\n",
            "768/768 [==============================] - 0s 174us/sample - loss: 0.5576 - acc: 0.7214\n",
            "Epoch 69/100\n",
            "768/768 [==============================] - 0s 159us/sample - loss: 0.5485 - acc: 0.7305\n",
            "Epoch 70/100\n",
            "768/768 [==============================] - 0s 156us/sample - loss: 0.5350 - acc: 0.7435\n",
            "Epoch 71/100\n",
            "768/768 [==============================] - 0s 171us/sample - loss: 0.5208 - acc: 0.7526\n",
            "Epoch 72/100\n",
            "768/768 [==============================] - 0s 154us/sample - loss: 0.5399 - acc: 0.7357\n",
            "Epoch 73/100\n",
            "768/768 [==============================] - 0s 155us/sample - loss: 0.5320 - acc: 0.7461\n",
            "Epoch 74/100\n",
            "768/768 [==============================] - 0s 167us/sample - loss: 0.5344 - acc: 0.7448\n",
            "Epoch 75/100\n",
            "768/768 [==============================] - 0s 170us/sample - loss: 0.5313 - acc: 0.7344\n",
            "Epoch 76/100\n",
            "768/768 [==============================] - 0s 173us/sample - loss: 0.5536 - acc: 0.7227\n",
            "Epoch 77/100\n",
            "768/768 [==============================] - 0s 179us/sample - loss: 0.5231 - acc: 0.7578\n",
            "Epoch 78/100\n",
            "768/768 [==============================] - 0s 161us/sample - loss: 0.5207 - acc: 0.7539\n",
            "Epoch 79/100\n",
            "768/768 [==============================] - 0s 164us/sample - loss: 0.5187 - acc: 0.7656\n",
            "Epoch 80/100\n",
            "768/768 [==============================] - 0s 165us/sample - loss: 0.5356 - acc: 0.7370\n",
            "Epoch 81/100\n",
            "768/768 [==============================] - 0s 169us/sample - loss: 0.5170 - acc: 0.7500\n",
            "Epoch 82/100\n",
            "768/768 [==============================] - 0s 163us/sample - loss: 0.5183 - acc: 0.7487\n",
            "Epoch 83/100\n",
            "768/768 [==============================] - 0s 164us/sample - loss: 0.5234 - acc: 0.7357\n",
            "Epoch 84/100\n",
            "768/768 [==============================] - 0s 174us/sample - loss: 0.5309 - acc: 0.7383\n",
            "Epoch 85/100\n",
            "768/768 [==============================] - 0s 171us/sample - loss: 0.5520 - acc: 0.7292\n",
            "Epoch 86/100\n",
            "768/768 [==============================] - 0s 162us/sample - loss: 0.5143 - acc: 0.7448\n",
            "Epoch 87/100\n",
            "768/768 [==============================] - 0s 160us/sample - loss: 0.5315 - acc: 0.7474\n",
            "Epoch 88/100\n",
            "768/768 [==============================] - 0s 161us/sample - loss: 0.5270 - acc: 0.7396\n",
            "Epoch 89/100\n",
            "768/768 [==============================] - 0s 155us/sample - loss: 0.5121 - acc: 0.7721\n",
            "Epoch 90/100\n",
            "768/768 [==============================] - 0s 166us/sample - loss: 0.5207 - acc: 0.7474\n",
            "Epoch 91/100\n",
            "768/768 [==============================] - 0s 177us/sample - loss: 0.5126 - acc: 0.7396\n",
            "Epoch 92/100\n",
            "768/768 [==============================] - 0s 158us/sample - loss: 0.5580 - acc: 0.7344\n",
            "Epoch 93/100\n",
            "768/768 [==============================] - 0s 159us/sample - loss: 0.5240 - acc: 0.7539\n",
            "Epoch 94/100\n",
            "768/768 [==============================] - 0s 166us/sample - loss: 0.5422 - acc: 0.7292\n",
            "Epoch 95/100\n",
            "768/768 [==============================] - 0s 163us/sample - loss: 0.5374 - acc: 0.7422\n",
            "Epoch 96/100\n",
            "768/768 [==============================] - 0s 164us/sample - loss: 0.5222 - acc: 0.7539\n",
            "Epoch 97/100\n",
            "768/768 [==============================] - 0s 171us/sample - loss: 0.5145 - acc: 0.7591\n",
            "Epoch 98/100\n",
            "768/768 [==============================] - 0s 160us/sample - loss: 0.5049 - acc: 0.7500\n",
            "Epoch 99/100\n",
            "768/768 [==============================] - 0s 200us/sample - loss: 0.5349 - acc: 0.7461\n",
            "Epoch 100/100\n",
            "768/768 [==============================] - 0s 159us/sample - loss: 0.5172 - acc: 0.7500\n",
            "768/768 [==============================] - 0s 118us/sample - loss: 0.4914 - acc: 0.7760\n",
            "\n",
            "acc: 77.60%\n"
          ]
        }
      ]
    },
    {
      "cell_type": "code",
      "source": [
        "\n",
        "from sklearn.model_selection import train_test_split\n",
        "import numpy\n",
        "import tensorflow as tf\n",
        "# fix random seed for reproducibility\n",
        "seed = 9\n",
        "numpy.random.seed(seed)\n",
        "# split into 70% for train and 30% for test\n",
        "X_train, X_test, y_train, y_test = train_test_split(X, Y, test_size=0.3, random_state=seed)\n",
        "print(X_train.shape, y_train.shape)\n",
        "print(X_test.shape, y_test.shape)\n",
        "# # create model\n",
        "model = Sequential()\n",
        "model.add(Dense(12, input_dim=8, activation='relu'))\n",
        "model.add(Dense(8, activation='relu'))\n",
        "model.add(Dense(1, activation='sigmoid'))\n",
        "# Compile model\n",
        "model.compile(loss='binary_crossentropy', optimizer='adam', metrics=['accuracy'])\n",
        "# # Fit the model # 375 train #162 valid # Total Number of data points (Train+valid = 537)\n",
        "# model.fit(X_train, y_train, validation_split=0.3, epochs=100, batch_size=10)\n",
        "# model.save('/content/gdrive/MyDrive/Colab Notebooks/pima_categorical/baseline-pima_with_validation-split.h5')\n",
        "# print(model.evaluate(X_test, y_test))\n",
        "# # evaluate the model # 231 test\n",
        "model.load_weights('/content/gdrive/MyDrive/Colab Notebooks/pima_categorical/baseline-pima_with_validation-split.h5')\n",
        "y_pred = model.predict_classes(X_test)\n",
        "print(np.squeeze(y_pred).shape)\n",
        "#print(y_test)\n",
        "\n",
        "# ## Calculating the precision of the model\n",
        "from sklearn.metrics import classification_report\n",
        "print(classification_report(y_test,y_pred))\n",
        "# print(np.max(y_class), np.min(y_class))\n",
        "#print(len(np.argmax(yhat,axis=-1)))\n",
        "\n",
        "from sklearn.metrics import confusion_matrix\n",
        "## Confusion matrix gives the number of cases where the model is able to accurately predict the outcomes.\n",
        "### both 1 and 0 and how many cases it gives false positive and false negatives\n",
        "confusion_matrix = confusion_matrix(y_test, y_pred)\n",
        "print(confusion_matrix)\n",
        "\n"
      ],
      "metadata": {
        "colab": {
          "base_uri": "https://localhost:8080/"
        },
        "id": "V4rXksh5OmtV",
        "outputId": "8ef21cd0-b85b-4122-e591-b33b286e9642"
      },
      "execution_count": null,
      "outputs": [
        {
          "output_type": "stream",
          "name": "stdout",
          "text": [
            "(537, 8) (537,)\n",
            "(231, 8) (231,)\n",
            "(231,)\n",
            "              precision    recall  f1-score   support\n",
            "\n",
            "         0.0       0.76      0.80      0.78       150\n",
            "         1.0       0.59      0.53      0.56        81\n",
            "\n",
            "    accuracy                           0.71       231\n",
            "   macro avg       0.67      0.67      0.67       231\n",
            "weighted avg       0.70      0.71      0.70       231\n",
            "\n",
            "[[120  30]\n",
            " [ 38  43]]\n"
          ]
        }
      ]
    }
  ],
  "metadata": {
    "colab": {
      "provenance": [],
      "collapsed_sections": []
    },
    "kernelspec": {
      "display_name": "Python 3",
      "name": "python3"
    },
    "language_info": {
      "name": "python"
    }
  },
  "nbformat": 4,
  "nbformat_minor": 0
}