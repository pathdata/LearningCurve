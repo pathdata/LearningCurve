{
  "cells": [
    {
      "cell_type": "markdown",
      "metadata": {
        "id": "5u12wFRpNGxx"
      },
      "source": [
        "# COMP0188 - LAB 4"
      ]
    },
    {
      "cell_type": "markdown",
      "metadata": {
        "id": "C_q8iHHLAwUk"
      },
      "source": [
        "In this lab we will use character-based Recurrent Neural Network (RNN) to generate a Shakespeare's-like text based on the Shakespeare dataset from [The Unreasonable Effectiveness of Recurrent Neural Networks](https://karpathy.github.io/2015/05/21/rnn-effectiveness/) blog post.\n",
        "\n",
        "This exercise is a bit compute intensive so we recommend you to turn on your GPUs by going to 'Edit', 'Notebook settings' and in Harware Accelerator select 'GPU' from the drop menu."
      ]
    },
    {
      "cell_type": "code",
      "execution_count": 1,
      "metadata": {
        "id": "WZDfiU4QCskB"
      },
      "outputs": [],
      "source": [
        "# Import relevant packages \n",
        "import tensorflow as tf\n",
        "import numpy as np\n",
        "import os"
      ]
    },
    {
      "cell_type": "code",
      "execution_count": 2,
      "metadata": {
        "colab": {
          "base_uri": "https://localhost:8080/"
        },
        "id": "5gXf9iz3DRZC",
        "outputId": "c7491b9b-4e0c-49f4-be83-427ff7cc503b"
      },
      "outputs": [
        {
          "name": "stdout",
          "output_type": "stream",
          "text": [
            "Downloading data from https://storage.googleapis.com/download.tensorflow.org/data/shakespeare.txt\n",
            "1115394/1115394 [==============================] - 0s 0us/step\n"
          ]
        }
      ],
      "source": [
        "# Access the data\n",
        "path_to_file = tf.keras.utils.get_file('shakespeare.txt', \n",
        "                                       'https://storage.googleapis.com/download.tensorflow.org/data/shakespeare.txt')\n"
      ]
    },
    {
      "cell_type": "markdown",
      "metadata": {
        "id": "oICTEtAhFE1S"
      },
      "source": [
        "## Data Visualization\n",
        "\n",
        "As always, let's start by visualizing the data. "
      ]
    },
    {
      "cell_type": "code",
      "execution_count": 3,
      "metadata": {
        "colab": {
          "base_uri": "https://localhost:8080/"
        },
        "id": "BvgmjQ6yyCRp",
        "outputId": "866cb658-a486-489e-c9f6-678ba27e55f0"
      },
      "outputs": [
        {
          "name": "stdout",
          "output_type": "stream",
          "text": [
            "Total number of characters in the corpus is: 1115394\n",
            "The first 100 characters of the corpus are as follows:\n",
            " First Citizen:\n",
            "Before we proceed any further, hear me speak.\n",
            "\n",
            "All:\n",
            "Speak, speak.\n",
            "\n",
            "First Citizen:\n",
            "You\n"
          ]
        }
      ],
      "source": [
        "# Read, then decode for py2 compat.\n",
        "text = open(path_to_file, 'rb').read()\n",
        "text = text.decode(encoding='utf-8')\n",
        "print ('Total number of characters in the corpus is:', len(text))\n",
        "print('The first 100 characters of the corpus are as follows:\\n', text[:100])"
      ]
    },
    {
      "cell_type": "markdown",
      "metadata": {
        "id": "Mwo_xfs6FE1T"
      },
      "source": [
        "## Data Processing\n",
        "\n",
        "### Exercise 1 - Extract Unique Characters\n",
        "\n",
        "First, extract a list of the unique characters in the text dataset. \n",
        "\n",
        "Hints:\n",
        "1. You can think of a `str` as a list of characters.  \n",
        "2. Look up the definition of a `set` in Python and how to get a list from that set. \n",
        "\n",
        "As a sanity check: You should get 65 unique characters in the dataset."
      ]
    },
    {
      "cell_type": "code",
      "execution_count": 5,
      "metadata": {
        "colab": {
          "base_uri": "https://localhost:8080/"
        },
        "id": "iRklBA6kyM4v",
        "outputId": "4258cb91-96a0-4545-c264-4398b76e3ddc"
      },
      "outputs": [
        {
          "name": "stdout",
          "output_type": "stream",
          "text": [
            "The number of unique characters in the corpus is 65\n",
            "A sample of unique characters: ['\\n', ' ', '!', '$', '&', \"'\", ',', '-', '.', '3']\n"
          ]
        }
      ],
      "source": [
        "import typing\n",
        "# The unique characters in the corpus\n",
        "# We've defined the type to help you get started.  \n",
        "\n",
        "### TASK 1 ###\n",
        "# Get a set of unique characters in the text document\n",
        "# YOUR CODE HERE:\n",
        "\n",
        "vocab =\n",
        "\n",
        "print ('The number of unique characters in the corpus is', len(vocab))\n",
        "print('A sample of unique characters:', vocab[:10])\n",
        "\n",
        "# Make a copy of the unique set elements in NumPy array format for later use in the decoding the predictions\n",
        "idx2char = np.array(vocab)"
      ]
    },
    {
      "cell_type": "markdown",
      "metadata": {
        "id": "d1Hs1Rb3FE1X"
      },
      "source": [
        "### 2- Tokenize Text Dataset\n",
        "\n",
        "Our next step is to convert the text dataset to a sequence of 'int's to facilitate machine learning. This is also known as **tokenization**. Each int represents a **token**, which can be a full word, a sub-word, or a single character. In this notebook, a token is a **character**. "
      ]
    },
    {
      "cell_type": "code",
      "execution_count": 6,
      "metadata": {
        "id": "DBYK8AHcya-j"
      },
      "outputs": [],
      "source": [
        "char2idx = {u:i for i, u in enumerate(vocab)}\n",
        "text_as_int = np.array([char2idx[c] for c in text])"
      ]
    },
    {
      "cell_type": "markdown",
      "metadata": {
        "id": "8uKm4KMF50GI"
      },
      "source": [
        "# Creating the Dataset"
      ]
    },
    {
      "cell_type": "markdown",
      "metadata": {
        "id": "FbVgzRRbFE1Z"
      },
      "source": [
        "We will now aggregate `text_as_int` into a dataset of 100-char sequences. "
      ]
    },
    {
      "cell_type": "code",
      "execution_count": 7,
      "metadata": {
        "id": "Hcn3p1Z5ymgL"
      },
      "outputs": [],
      "source": [
        "# Create training examples / targets\n",
        "char_dataset = tf.data.Dataset.from_tensor_slices(text_as_int) \n",
        "seq_length = 100 # The max. length for single input\n",
        "\n",
        "sequences = char_dataset.batch(seq_length, drop_remainder=True) "
      ]
    },
    {
      "cell_type": "markdown",
      "metadata": {
        "id": "2DdMfMNhFE1a"
      },
      "source": [
        "We will visualize the first two sequences in this dataset: "
      ]
    },
    {
      "cell_type": "code",
      "execution_count": 8,
      "metadata": {
        "colab": {
          "base_uri": "https://localhost:8080/"
        },
        "id": "l6VIE68LFE1b",
        "outputId": "29a4a9f5-2847-4e55-fced-8f682d709857"
      },
      "outputs": [
        {
          "name": "stdout",
          "output_type": "stream",
          "text": [
            "tf.Tensor(\n",
            "[18 47 56 57 58  1 15 47 58 47 64 43 52 10  0 14 43 44 53 56 43  1 61 43\n",
            "  1 54 56 53 41 43 43 42  1 39 52 63  1 44 59 56 58 46 43 56  6  1 46 43\n",
            " 39 56  1 51 43  1 57 54 43 39 49  8  0  0 13 50 50 10  0 31 54 43 39 49\n",
            "  6  1 57 54 43 39 49  8  0  0 18 47 56 57 58  1 15 47 58 47 64 43 52 10\n",
            "  0 37 53 59], shape=(100,), dtype=int64)\n",
            "tf.Tensor(\n",
            "[ 1 39 56 43  1 39 50 50  1 56 43 57 53 50 60 43 42  1 56 39 58 46 43 56\n",
            "  1 58 53  1 42 47 43  1 58 46 39 52  1 58 53  1 44 39 51 47 57 46 12  0\n",
            "  0 13 50 50 10  0 30 43 57 53 50 60 43 42  8  1 56 43 57 53 50 60 43 42\n",
            "  8  0  0 18 47 56 57 58  1 15 47 58 47 64 43 52 10  0 18 47 56 57 58  6\n",
            "  1 63 53 59], shape=(100,), dtype=int64)\n"
          ]
        }
      ],
      "source": [
        "for i, seq in enumerate(sequences):\n",
        "    print(seq)\n",
        "    if i >= 1: break"
      ]
    },
    {
      "cell_type": "markdown",
      "metadata": {
        "id": "RsrcTjpRFE1b"
      },
      "source": [
        "### Next-Character Prediction\n",
        "\n",
        "We will now set up the text prediction problem as one of predicting the next character, given all the characters already observed so far in each sequence. "
      ]
    },
    {
      "cell_type": "code",
      "execution_count": 9,
      "metadata": {
        "id": "k2DjO9QCyqKA"
      },
      "outputs": [],
      "source": [
        "def split_input_target(chunk):\n",
        "  input_text = chunk[:-1]\n",
        "  target_text = chunk[1:]\n",
        "  return input_text, target_text\n",
        "\n",
        "dataset = sequences.map(split_input_target)"
      ]
    },
    {
      "cell_type": "markdown",
      "metadata": {
        "id": "V4udQwmU7sNK"
      },
      "source": [
        "Under the hood, the RNN sequentially reads each character. As it reads the characters, it constructs a **summary** of the history of characters in its hidden state, and uses that to predict the next character: ![rnn.png](data:image/png;base64,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)"
      ]
    },
    {
      "cell_type": "code",
      "execution_count": 10,
      "metadata": {
        "colab": {
          "base_uri": "https://localhost:8080/"
        },
        "id": "bDi7m909yu7A",
        "outputId": "c4d0af32-2ff7-4f6e-82da-a62d17ac9be7"
      },
      "outputs": [
        {
          "name": "stdout",
          "output_type": "stream",
          "text": [
            "<BatchDataset element_spec=(TensorSpec(shape=(64, 99), dtype=tf.int64, name=None), TensorSpec(shape=(64, 99), dtype=tf.int64, name=None))>\n"
          ]
        }
      ],
      "source": [
        "\n",
        "BUFFER_SIZE = 10000 # TF shuffles the data only within buffers\n",
        "\n",
        "BATCH_SIZE = 64 # Batch size\n",
        "\n",
        "dataset = dataset.shuffle(BUFFER_SIZE).batch(BATCH_SIZE, drop_remainder=True)\n",
        "\n",
        "print(dataset)"
      ]
    },
    {
      "cell_type": "markdown",
      "metadata": {
        "id": "N-tzun1R8RBw"
      },
      "source": [
        "# Building the Model"
      ]
    },
    {
      "cell_type": "code",
      "execution_count": 11,
      "metadata": {
        "id": "gK2YL1OVy6Db"
      },
      "outputs": [],
      "source": [
        "# Length of the vocabulary in chars\n",
        "vocab_size = len(vocab)\n",
        "# The embedding dimension\n",
        "embedding_dim = 256\n",
        "# Number of RNN units\n",
        "rnn_units = 256"
      ]
    },
    {
      "cell_type": "markdown",
      "metadata": {
        "id": "vZfed5G5JauG"
      },
      "source": [
        "### Exercise 2 - Building the Model\n",
        "\n",
        "There are three layers in our model:\n",
        "\n",
        " - An Embedding Layer: This layer serves as the input layer, accepting input tokens and converting them into vectors.\n",
        " - A GRU layer: An RNN layer filled with 1024 units. \n",
        " - A Dense layer: Has (vocab_size) outputs, to predict the ID of the next character in the sequence. \n",
        "\n",
        " Your task is to add the GRU layer to the model. \n",
        " \n",
        " Hints:\n",
        " 1. Look up the documentation for `tensorflow.keras.layers.GRU`. \n",
        " 2. Make sure the GRU can `return_sequence` and the GRU is `stateful`.\n",
        " 3. Try the `glorot_uniform` initializer. "
      ]
    },
    {
      "cell_type": "code",
      "execution_count": 12,
      "metadata": {
        "id": "54RSBFzzy-RD"
      },
      "outputs": [],
      "source": [
        "\n",
        "### TASK 2 ###\n",
        "# Build a recurrent neural network with an Embedding layer and a GRU (Gated Recurrent Units) layer\n",
        "\n",
        "def build_model(vocab_size, embedding_dim, rnn_units, batch_size):\n",
        "  model = tf.keras.Sequential([\n",
        "    tf.keras.layers.Embedding(vocab_size, embedding_dim,\n",
        "                              batch_input_shape=[batch_size, None]),\n",
        "### YOUR CODE HERE ###\n",
        "### Add the GRU layer\n",
        "\n",
        "\n",
        "# Ading an LSTM layer, look into the different parameters it can take, is it using tanh() and sigmoid()\n",
        "   \n",
        "\n",
        "# Dense Layer for our model\n",
        "    tf.keras.layers.Dense(vocab_size)\n",
        "  ])\n",
        "  return model"
      ]
    },
    {
      "cell_type": "code",
      "execution_count": 13,
      "metadata": {
        "colab": {
          "base_uri": "https://localhost:8080/"
        },
        "id": "WSNFumnCzAq8",
        "outputId": "e9b642eb-409c-4b7f-a208-8b489972562b"
      },
      "outputs": [
        {
          "name": "stdout",
          "output_type": "stream",
          "text": [
            "Model: \"sequential\"\n",
            "_________________________________________________________________\n",
            " Layer (type)                Output Shape              Param #   \n",
            "=================================================================\n",
            " embedding (Embedding)       (64, None, 256)           16640     \n",
            "                                                                 \n",
            " gru (GRU)                   (64, None, 256)           394752    \n",
            "                                                                 \n",
            " lstm (LSTM)                 (64, None, 256)           525312    \n",
            "                                                                 \n",
            " dense (Dense)               (64, None, 65)            16705     \n",
            "                                                                 \n",
            "=================================================================\n",
            "Total params: 953,409\n",
            "Trainable params: 953,409\n",
            "Non-trainable params: 0\n",
            "_________________________________________________________________\n"
          ]
        }
      ],
      "source": [
        "model = build_model(\n",
        "    vocab_size = len(vocab), # no. of unique characters\n",
        "    embedding_dim=embedding_dim, # 256\n",
        "    rnn_units=rnn_units, # 1024\n",
        "    batch_size=BATCH_SIZE)  # 64 for the traning\n",
        "\n",
        "model.summary()"
      ]
    },
    {
      "cell_type": "markdown",
      "metadata": {
        "id": "htXhk4P3FE1s"
      },
      "source": [
        "### Model Training\n",
        "\n",
        "Now we're ready to train the model.\n",
        " \n",
        "We define the loss function, compile the model, and call `model.fit`. \n",
        "We also make use of `CheckpointCallback` to save checkpoints along the way. "
      ]
    },
    {
      "cell_type": "code",
      "execution_count": 14,
      "metadata": {
        "id": "eU31z7y_zDuL"
      },
      "outputs": [],
      "source": [
        "def loss(labels, logits):\n",
        "  return tf.keras.losses.sparse_categorical_crossentropy(labels, logits, from_logits=True)\n",
        "\n",
        "# example_batch_loss  = loss(target_example_batch, example_batch_predictions)\n",
        "# print(\"Prediction shape: \", example_batch_predictions.shape, \" (batch_size, sequence_length, vocab_size)\")\n",
        "# print(\"scalar_loss:      \", example_batch_loss.numpy().mean())\n",
        "\n",
        "model.compile(optimizer='adam', loss=loss)"
      ]
    },
    {
      "cell_type": "code",
      "execution_count": 15,
      "metadata": {
        "id": "VyYh5lM_zKRK"
      },
      "outputs": [],
      "source": [
        "# Directory where the checkpoints will be saved\n",
        "checkpoint_dir = './training_checkpoints'\n",
        "# Name of the checkpoint files\n",
        "checkpoint_prefix = os.path.join(checkpoint_dir, \"ckpt_{epoch}\")\n",
        "\n",
        "checkpoint_callback=tf.keras.callbacks.ModelCheckpoint(\n",
        "    filepath=checkpoint_prefix,\n",
        "    save_weights_only=True)"
      ]
    },
    {
      "cell_type": "code",
      "execution_count": 16,
      "metadata": {
        "colab": {
          "base_uri": "https://localhost:8080/"
        },
        "id": "XObQQe-hzNE4",
        "outputId": "637a6d59-9851-4344-9780-d70dedce5cb4"
      },
      "outputs": [
        {
          "name": "stdout",
          "output_type": "stream",
          "text": [
            "174/174 [==============================] - 14s 22ms/step - loss: 2.7196\n"
          ]
        }
      ],
      "source": [
        "EPOCHS = 1\n",
        "history = model.fit(dataset, \n",
        "                    epochs=EPOCHS, \n",
        "                    callbacks=[checkpoint_callback])"
      ]
    },
    {
      "cell_type": "markdown",
      "metadata": {
        "id": "wR3qvnyn0Ivb"
      },
      "source": [
        "# Generating new text"
      ]
    },
    {
      "cell_type": "markdown",
      "metadata": {
        "id": "3-pFCrk3FE1u"
      },
      "source": [
        "Now we're ready to try generating new text from our saved model!\n",
        "\n",
        "First, let's load the latest checkpoint. Tensorflow provides utilities to automatically find the latest checkpoint within `checkpoint_dir`. "
      ]
    },
    {
      "cell_type": "code",
      "execution_count": 17,
      "metadata": {
        "colab": {
          "base_uri": "https://localhost:8080/",
          "height": 35
        },
        "id": "WCRWubeOzQmO",
        "outputId": "997c06e8-f27a-48b5-e74d-dba7139b3a6c"
      },
      "outputs": [
        {
          "data": {
            "application/vnd.google.colaboratory.intrinsic+json": {
              "type": "string"
            },
            "text/plain": [
              "'./training_checkpoints/ckpt_1'"
            ]
          },
          "execution_count": 17,
          "metadata": {},
          "output_type": "execute_result"
        }
      ],
      "source": [
        "tf.train.latest_checkpoint(checkpoint_dir)\n"
      ]
    },
    {
      "cell_type": "code",
      "execution_count": 18,
      "metadata": {
        "colab": {
          "base_uri": "https://localhost:8080/"
        },
        "id": "nGo7Nqy40LcT",
        "outputId": "5d82fd13-e46c-4b9e-9f79-09d62dd680d2"
      },
      "outputs": [
        {
          "name": "stdout",
          "output_type": "stream",
          "text": [
            "Model: \"sequential_1\"\n",
            "_________________________________________________________________\n",
            " Layer (type)                Output Shape              Param #   \n",
            "=================================================================\n",
            " embedding_1 (Embedding)     (1, None, 256)            16640     \n",
            "                                                                 \n",
            " gru_1 (GRU)                 (1, None, 256)            394752    \n",
            "                                                                 \n",
            " lstm_1 (LSTM)               (1, None, 256)            525312    \n",
            "                                                                 \n",
            " dense_1 (Dense)             (1, None, 65)             16705     \n",
            "                                                                 \n",
            "=================================================================\n",
            "Total params: 953,409\n",
            "Trainable params: 953,409\n",
            "Non-trainable params: 0\n",
            "_________________________________________________________________\n"
          ]
        }
      ],
      "source": [
        "model = build_model(vocab_size, embedding_dim, rnn_units, batch_size=1)\n",
        "model.load_weights(tf.train.latest_checkpoint(checkpoint_dir))\n",
        "model.build(tf.TensorShape([1, None]))\n",
        "model.summary()"
      ]
    },
    {
      "cell_type": "markdown",
      "metadata": {},
      "source": [
        "The process for sampling new text is as follows:\n",
        "1. An RNN reads the existing (partial) sequence and predicts the next character. \n",
        "2. The output of the RNN is a 65-dimensional vector of scores for each character. A higher score indicates a higher probability of that character. \n",
        "3. The scores are converted to a **categorical distribution** over the characters. \n",
        "4. The categorical distribution is sampled to generate a character. \n",
        "5. The sampled character is appended to the sequence and we repeat from Sttep 1. "
      ]
    },
    {
      "cell_type": "code",
      "execution_count": 25,
      "metadata": {
        "id": "0Xaw3sZd0Pb-"
      },
      "outputs": [],
      "source": [
        "def generate_text(model, num_generate, temperature, start_string):\n",
        "  input_eval = [char2idx[s] for s in start_string] # string to numbers (vectorizing)\n",
        "  input_eval = tf.expand_dims(input_eval, 0) # dimension expansion\n",
        "  text_generated = [] # Empty string to store our results\n",
        "  model.reset_states() # Clears the hidden states in the RNN\n",
        "\n",
        "  for i in range(num_generate): #Run a loop for number of characters to generate\n",
        "    predictions = model(input_eval) # prediction for single character\n",
        "    predictions = tf.squeeze(predictions, 0) # remove the batch dimension\n",
        "\n",
        "    # using a categorical distribution to predict the character returned by the model\n",
        "    # higher temperature increases the probability of selecting a less likely character\n",
        "    # lower --> more predictable\n",
        "    predictions = predictions / temperature\n",
        "    predicted_id = tf.random.categorical(predictions, num_samples=1)[-1,0].numpy()\n",
        "\n",
        "    # The predicted character as the next input to the model\n",
        "    # along with the previous hidden state\n",
        "    # So the model makes the next prediction based on the previous character\n",
        "    input_eval = tf.expand_dims([predicted_id], 0) \n",
        "    # Also devectorize the number and add to the generated text\n",
        "    text_generated.append(idx2char[predicted_id]) \n",
        "\n",
        "  return (start_string + ' '.join(text_generated))"
      ]
    },
    {
      "cell_type": "code",
      "execution_count": 26,
      "metadata": {
        "colab": {
          "base_uri": "https://localhost:8080/"
        },
        "id": "GIJYE8210XqV",
        "outputId": "4f9e4f60-f23f-4963-e48c-93110543c1c4"
      },
      "outputs": [
        {
          "name": "stdout",
          "output_type": "stream",
          "text": [
            "ROMEOK N x ! \n",
            " W C z a u l ;   w a l e   t h   t h o u   t h a m e . \n",
            " \n",
            " H o m i s s - o t   w a n d   I\n"
          ]
        }
      ],
      "source": [
        "generated_text = generate_text(\n",
        "                    model, \n",
        "                    num_generate=50, \n",
        "                    temperature=1, \n",
        "                    start_string=\"ROMEO\")\n",
        "print(generated_text)"
      ]
    },
    {
      "cell_type": "markdown",
      "metadata": {
        "id": "xi84Io9wFE1w"
      },
      "source": [
        "#### Exercise 3 - Experimentation\n",
        "\n",
        "The character-level model we trained isn't very good. How can you improve it? \n",
        "Try one or more of the following: \n",
        "\n",
        "1. Training the model for more epochs\n",
        "2. Adding one or more GRU layer to the model\n",
        "3. Adding one or more LSTM layers to the model\n",
        "4. Increasing the hidden units"
      ]
    },
    {
      "cell_type": "code",
      "execution_count": null,
      "metadata": {
        "id": "ekXl3CTZ0Yjk"
      },
      "outputs": [],
      "source": [
        "###  TASK 3  #####\n",
        "\n"
      ]
    },
    {
      "cell_type": "markdown",
      "metadata": {},
      "source": [
        "### Exercise 4 - Deterministic Decoding vs Sampling\n",
        "\n",
        "Recall that to generate text, in step 4, we sample the categorical distribution output by the RNN to generate the next character. Instead of sampling, it is possible to always pick the most likely character from the distribution, i.e. **deterministic decoding**. \n",
        "\n",
        "What are the pros and cons of the different approaches? Experiment with both methods and write down what you observe about the generated sequences.  "
      ]
    }
  ],
  "metadata": {
    "accelerator": "GPU",
    "colab": {
      "provenance": []
    },
    "kernelspec": {
      "display_name": "Python 3.9.12 ('base')",
      "language": "python",
      "name": "python3"
    },
    "language_info": {
      "codemirror_mode": {
        "name": "ipython",
        "version": 3
      },
      "file_extension": ".py",
      "mimetype": "text/x-python",
      "name": "python",
      "nbconvert_exporter": "python",
      "pygments_lexer": "ipython3",
      "version": "3.9.12"
    },
    "vscode": {
      "interpreter": {
        "hash": "0ad57050c77180dc9ed5ccc7774a474d285089782a3b5193155c6c81d567ba30"
      }
    }
  },
  "nbformat": 4,
  "nbformat_minor": 0
}
