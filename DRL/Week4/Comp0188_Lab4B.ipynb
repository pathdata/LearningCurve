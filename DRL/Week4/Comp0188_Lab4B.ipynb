{
  "nbformat": 4,
  "nbformat_minor": 0,
  "metadata": {
    "colab": {
      "provenance": []
    },
    "kernelspec": {
      "name": "python3",
      "display_name": "Python 3"
    },
    "language_info": {
      "name": "python"
    }
  },
  "cells": [
    {
      "cell_type": "markdown",
      "source": [
        "#COMP0188 Lab4B\n",
        "\n",
        "In this lab we will use Baseline Recurrent Neural Network (RNN) model for timeseries data of sunspots with data analysis, visualisation, model definition, training the RNN model and evaluate using Mean square error on the predicted data.\n"
      ],
      "metadata": {
        "id": "I0H1aLF47lVp"
      }
    },
    {
      "cell_type": "code",
      "source": [
        "# Set up of the environment"
      ],
      "metadata": {
        "id": "rkp9yUgc-lND"
      },
      "execution_count": null,
      "outputs": []
    },
    {
      "cell_type": "code",
      "execution_count": 1,
      "metadata": {
        "colab": {
          "base_uri": "https://localhost:8080/"
        },
        "id": "b00mQwbPtQfc",
        "outputId": "2164aff1-84ea-483c-b473-c92f0395db34"
      },
      "outputs": [
        {
          "output_type": "stream",
          "name": "stdout",
          "text": [
            "Looking in indexes: https://pypi.org/simple, https://us-python.pkg.dev/colab-wheels/public/simple/\n",
            "Requirement already satisfied: tensorflow in /usr/local/lib/python3.7/dist-packages (2.9.2)\n",
            "Requirement already satisfied: h5py>=2.9.0 in /usr/local/lib/python3.7/dist-packages (from tensorflow) (3.1.0)\n",
            "Requirement already satisfied: gast<=0.4.0,>=0.2.1 in /usr/local/lib/python3.7/dist-packages (from tensorflow) (0.4.0)\n",
            "Requirement already satisfied: setuptools in /usr/local/lib/python3.7/dist-packages (from tensorflow) (57.4.0)\n",
            "Requirement already satisfied: astunparse>=1.6.0 in /usr/local/lib/python3.7/dist-packages (from tensorflow) (1.6.3)\n",
            "Requirement already satisfied: typing-extensions>=3.6.6 in /usr/local/lib/python3.7/dist-packages (from tensorflow) (4.1.1)\n",
            "Requirement already satisfied: flatbuffers<2,>=1.12 in /usr/local/lib/python3.7/dist-packages (from tensorflow) (1.12)\n",
            "Requirement already satisfied: termcolor>=1.1.0 in /usr/local/lib/python3.7/dist-packages (from tensorflow) (2.0.1)\n",
            "Requirement already satisfied: opt-einsum>=2.3.2 in /usr/local/lib/python3.7/dist-packages (from tensorflow) (3.3.0)\n",
            "Requirement already satisfied: six>=1.12.0 in /usr/local/lib/python3.7/dist-packages (from tensorflow) (1.15.0)\n",
            "Requirement already satisfied: libclang>=13.0.0 in /usr/local/lib/python3.7/dist-packages (from tensorflow) (14.0.6)\n",
            "Requirement already satisfied: google-pasta>=0.1.1 in /usr/local/lib/python3.7/dist-packages (from tensorflow) (0.2.0)\n",
            "Requirement already satisfied: wrapt>=1.11.0 in /usr/local/lib/python3.7/dist-packages (from tensorflow) (1.14.1)\n",
            "Requirement already satisfied: absl-py>=1.0.0 in /usr/local/lib/python3.7/dist-packages (from tensorflow) (1.3.0)\n",
            "Requirement already satisfied: tensorflow-estimator<2.10.0,>=2.9.0rc0 in /usr/local/lib/python3.7/dist-packages (from tensorflow) (2.9.0)\n",
            "Requirement already satisfied: tensorboard<2.10,>=2.9 in /usr/local/lib/python3.7/dist-packages (from tensorflow) (2.9.1)\n",
            "Requirement already satisfied: keras<2.10.0,>=2.9.0rc0 in /usr/local/lib/python3.7/dist-packages (from tensorflow) (2.9.0)\n",
            "Requirement already satisfied: keras-preprocessing>=1.1.1 in /usr/local/lib/python3.7/dist-packages (from tensorflow) (1.1.2)\n",
            "Requirement already satisfied: numpy>=1.20 in /usr/local/lib/python3.7/dist-packages (from tensorflow) (1.21.6)\n",
            "Requirement already satisfied: tensorflow-io-gcs-filesystem>=0.23.1 in /usr/local/lib/python3.7/dist-packages (from tensorflow) (0.27.0)\n",
            "Requirement already satisfied: packaging in /usr/local/lib/python3.7/dist-packages (from tensorflow) (21.3)\n",
            "Requirement already satisfied: protobuf<3.20,>=3.9.2 in /usr/local/lib/python3.7/dist-packages (from tensorflow) (3.17.3)\n",
            "Requirement already satisfied: grpcio<2.0,>=1.24.3 in /usr/local/lib/python3.7/dist-packages (from tensorflow) (1.50.0)\n",
            "Requirement already satisfied: wheel<1.0,>=0.23.0 in /usr/local/lib/python3.7/dist-packages (from astunparse>=1.6.0->tensorflow) (0.37.1)\n",
            "Requirement already satisfied: cached-property in /usr/local/lib/python3.7/dist-packages (from h5py>=2.9.0->tensorflow) (1.5.2)\n",
            "Requirement already satisfied: werkzeug>=1.0.1 in /usr/local/lib/python3.7/dist-packages (from tensorboard<2.10,>=2.9->tensorflow) (1.0.1)\n",
            "Requirement already satisfied: requests<3,>=2.21.0 in /usr/local/lib/python3.7/dist-packages (from tensorboard<2.10,>=2.9->tensorflow) (2.23.0)\n",
            "Requirement already satisfied: google-auth-oauthlib<0.5,>=0.4.1 in /usr/local/lib/python3.7/dist-packages (from tensorboard<2.10,>=2.9->tensorflow) (0.4.6)\n",
            "Requirement already satisfied: markdown>=2.6.8 in /usr/local/lib/python3.7/dist-packages (from tensorboard<2.10,>=2.9->tensorflow) (3.4.1)\n",
            "Requirement already satisfied: tensorboard-data-server<0.7.0,>=0.6.0 in /usr/local/lib/python3.7/dist-packages (from tensorboard<2.10,>=2.9->tensorflow) (0.6.1)\n",
            "Requirement already satisfied: tensorboard-plugin-wit>=1.6.0 in /usr/local/lib/python3.7/dist-packages (from tensorboard<2.10,>=2.9->tensorflow) (1.8.1)\n",
            "Requirement already satisfied: google-auth<3,>=1.6.3 in /usr/local/lib/python3.7/dist-packages (from tensorboard<2.10,>=2.9->tensorflow) (1.35.0)\n",
            "Requirement already satisfied: cachetools<5.0,>=2.0.0 in /usr/local/lib/python3.7/dist-packages (from google-auth<3,>=1.6.3->tensorboard<2.10,>=2.9->tensorflow) (4.2.4)\n",
            "Requirement already satisfied: rsa<5,>=3.1.4 in /usr/local/lib/python3.7/dist-packages (from google-auth<3,>=1.6.3->tensorboard<2.10,>=2.9->tensorflow) (4.9)\n",
            "Requirement already satisfied: pyasn1-modules>=0.2.1 in /usr/local/lib/python3.7/dist-packages (from google-auth<3,>=1.6.3->tensorboard<2.10,>=2.9->tensorflow) (0.2.8)\n",
            "Requirement already satisfied: requests-oauthlib>=0.7.0 in /usr/local/lib/python3.7/dist-packages (from google-auth-oauthlib<0.5,>=0.4.1->tensorboard<2.10,>=2.9->tensorflow) (1.3.1)\n",
            "Requirement already satisfied: importlib-metadata>=4.4 in /usr/local/lib/python3.7/dist-packages (from markdown>=2.6.8->tensorboard<2.10,>=2.9->tensorflow) (4.13.0)\n",
            "Requirement already satisfied: zipp>=0.5 in /usr/local/lib/python3.7/dist-packages (from importlib-metadata>=4.4->markdown>=2.6.8->tensorboard<2.10,>=2.9->tensorflow) (3.10.0)\n",
            "Requirement already satisfied: pyasn1<0.5.0,>=0.4.6 in /usr/local/lib/python3.7/dist-packages (from pyasn1-modules>=0.2.1->google-auth<3,>=1.6.3->tensorboard<2.10,>=2.9->tensorflow) (0.4.8)\n",
            "Requirement already satisfied: idna<3,>=2.5 in /usr/local/lib/python3.7/dist-packages (from requests<3,>=2.21.0->tensorboard<2.10,>=2.9->tensorflow) (2.10)\n",
            "Requirement already satisfied: certifi>=2017.4.17 in /usr/local/lib/python3.7/dist-packages (from requests<3,>=2.21.0->tensorboard<2.10,>=2.9->tensorflow) (2022.9.24)\n",
            "Requirement already satisfied: urllib3!=1.25.0,!=1.25.1,<1.26,>=1.21.1 in /usr/local/lib/python3.7/dist-packages (from requests<3,>=2.21.0->tensorboard<2.10,>=2.9->tensorflow) (1.24.3)\n",
            "Requirement already satisfied: chardet<4,>=3.0.2 in /usr/local/lib/python3.7/dist-packages (from requests<3,>=2.21.0->tensorboard<2.10,>=2.9->tensorflow) (3.0.4)\n",
            "Requirement already satisfied: oauthlib>=3.0.0 in /usr/local/lib/python3.7/dist-packages (from requests-oauthlib>=0.7.0->google-auth-oauthlib<0.5,>=0.4.1->tensorboard<2.10,>=2.9->tensorflow) (3.2.2)\n",
            "Requirement already satisfied: pyparsing!=3.0.5,>=2.0.2 in /usr/local/lib/python3.7/dist-packages (from packaging->tensorflow) (3.0.9)\n",
            "Looking in indexes: https://pypi.org/simple, https://us-python.pkg.dev/colab-wheels/public/simple/\n",
            "Requirement already satisfied: pandas in /usr/local/lib/python3.7/dist-packages (1.3.5)\n",
            "Requirement already satisfied: numpy>=1.17.3 in /usr/local/lib/python3.7/dist-packages (from pandas) (1.21.6)\n",
            "Requirement already satisfied: pytz>=2017.3 in /usr/local/lib/python3.7/dist-packages (from pandas) (2022.5)\n",
            "Requirement already satisfied: python-dateutil>=2.7.3 in /usr/local/lib/python3.7/dist-packages (from pandas) (2.8.2)\n",
            "Requirement already satisfied: six>=1.5 in /usr/local/lib/python3.7/dist-packages (from python-dateutil>=2.7.3->pandas) (1.15.0)\n"
          ]
        }
      ],
      "source": [
        "!pip install tensorflow\n",
        "!pip install pandas"
      ]
    },
    {
      "cell_type": "code",
      "source": [
        "import numpy as np\n",
        "import pandas as pd\n",
        "import seaborn as sns\n",
        "import matplotlib.pyplot as plt\n",
        "import datetime\n",
        "import os\n"
      ],
      "metadata": {
        "id": "CoECPybkteaT"
      },
      "execution_count": 4,
      "outputs": []
    },
    {
      "cell_type": "markdown",
      "source": [
        "Use the data on moodle and try to perform data analysis of Sunspots data and do the boxplot of Sunspots by year.\n",
        "\n"
      ],
      "metadata": {
        "id": "Dy5MfP9ttgUv"
      }
    },
    {
      "cell_type": "code",
      "source": [
        "from google.colab import drive\n",
        "drive.mount('/content/gdrive')\n",
        "\n",
        "# Keep the dataframe unchanged for SIMPLE RNN Model\n",
        "df = pd.read_csv('/content/gdrive/MyDrive/Colab Notebooks/sunspots_01.csv')\n",
        "print(df.tail(5))\n",
        "\n",
        "# Copy df to test_df\n",
        "## To use the grouping by month and year Datetime conversion method is quiet helpful\n",
        "test_df = df.copy()\n",
        "test_df['datetime'] = pd.to_datetime(test_df['Month'])\n",
        "print(test_df.dtypes)\n",
        "print(test_df.tail(5))\n",
        "print(test_df.shape)\n",
        "print(df.shape)"
      ],
      "metadata": {
        "colab": {
          "base_uri": "https://localhost:8080/"
        },
        "id": "EYEsq8KztvCF",
        "outputId": "e9fe906b-90d5-4b69-cb50-d34cf71ab40d"
      },
      "execution_count": 5,
      "outputs": [
        {
          "output_type": "stream",
          "name": "stdout",
          "text": [
            "Drive already mounted at /content/gdrive; to attempt to forcibly remount, call drive.mount(\"/content/gdrive\", force_remount=True).\n",
            "        Month  Sunspots\n",
            "2815  1983-08      71.8\n",
            "2816  1983-09      50.3\n",
            "2817  1983-10      55.8\n",
            "2818  1983-11      33.3\n",
            "2819  1983-12      33.4\n",
            "Month               object\n",
            "Sunspots           float64\n",
            "datetime    datetime64[ns]\n",
            "dtype: object\n",
            "        Month  Sunspots   datetime\n",
            "2815  1983-08      71.8 1983-08-01\n",
            "2816  1983-09      50.3 1983-09-01\n",
            "2817  1983-10      55.8 1983-10-01\n",
            "2818  1983-11      33.3 1983-11-01\n",
            "2819  1983-12      33.4 1983-12-01\n",
            "(2820, 3)\n",
            "(2820, 2)\n"
          ]
        }
      ]
    },
    {
      "cell_type": "markdown",
      "source": [
        "#Subset dataset for easier visualisation and understand the data"
      ],
      "metadata": {
        "id": "2KYibtH8t7kk"
      }
    },
    {
      "cell_type": "code",
      "source": [
        "# Subset into a smaller dataframe for visualisation\n",
        "\n",
        "# df has all datapoints.\n",
        "df_sub=df[1:60]\n",
        "print(df_sub)\n",
        "print(df_sub.shape)\n",
        "\n",
        "# Convert month to datatime format of pandas so grouping by year and month is easier\n",
        "df_sub['datetime'] = pd.to_datetime(df_sub['Month'])\n",
        "print(df_sub.dtypes)\n",
        "\n",
        "\n",
        "#Visualise subset of the dataframe\n",
        "xlabels = df_sub['Month']\n",
        "fig, ax = plt.subplots(figsize=(20,10))\n",
        "ax=sns.boxplot(x='Month', y='Sunspots', data=df_sub,linewidth=1)\n",
        "ax.set_title('Sunspots')\n",
        "ax.legend(loc='center left', bbox_to_anchor=(1, 0.5))\n",
        "ax.set_xticklabels(xlabels, rotation=90)\n",
        "plt.show()\n",
        "\n"
      ],
      "metadata": {
        "colab": {
          "base_uri": "https://localhost:8080/",
          "height": 1000
        },
        "id": "fn1D8TpkuEDc",
        "outputId": "a1a56617-3b56-4278-8ea3-79b05b4f93b1"
      },
      "execution_count": 14,
      "outputs": [
        {
          "output_type": "stream",
          "name": "stdout",
          "text": [
            "      Month  Sunspots\n",
            "1   1749-02      62.6\n",
            "2   1749-03      70.0\n",
            "3   1749-04      55.7\n",
            "4   1749-05      85.0\n",
            "5   1749-06      83.5\n",
            "6   1749-07      94.8\n",
            "7   1749-08      66.3\n",
            "8   1749-09      75.9\n",
            "9   1749-10      75.5\n",
            "10  1749-11     158.6\n",
            "11  1749-12      85.2\n",
            "12  1750-01      73.3\n",
            "13  1750-02      75.9\n",
            "14  1750-03      89.2\n",
            "15  1750-04      88.3\n",
            "16  1750-05      90.0\n",
            "17  1750-06     100.0\n",
            "18  1750-07      85.4\n",
            "19  1750-08     103.0\n",
            "20  1750-09      91.2\n",
            "21  1750-10      65.7\n",
            "22  1750-11      63.3\n",
            "23  1750-12      75.4\n",
            "24  1751-01      70.0\n",
            "25  1751-02      43.5\n",
            "26  1751-03      45.3\n",
            "27  1751-04      56.4\n",
            "28  1751-05      60.7\n",
            "29  1751-06      50.7\n",
            "30  1751-07      66.3\n",
            "31  1751-08      59.8\n",
            "32  1751-09      23.5\n",
            "33  1751-10      23.2\n",
            "34  1751-11      28.5\n",
            "35  1751-12      44.0\n",
            "36  1752-01      35.0\n",
            "37  1752-02      50.0\n",
            "38  1752-03      71.0\n",
            "39  1752-04      59.3\n",
            "40  1752-05      59.7\n",
            "41  1752-06      39.6\n",
            "42  1752-07      78.4\n",
            "43  1752-08      29.3\n",
            "44  1752-09      27.1\n",
            "45  1752-10      46.6\n",
            "46  1752-11      37.6\n",
            "47  1752-12      40.0\n",
            "48  1753-01      44.0\n",
            "49  1753-02      32.0\n",
            "50  1753-03      45.7\n",
            "51  1753-04      38.0\n",
            "52  1753-05      36.0\n",
            "53  1753-06      31.7\n",
            "54  1753-07      22.2\n",
            "55  1753-08      39.0\n",
            "56  1753-09      28.0\n",
            "57  1753-10      25.0\n",
            "58  1753-11      20.0\n",
            "59  1753-12       6.7\n",
            "(59, 2)\n",
            "Month               object\n",
            "Sunspots           float64\n",
            "datetime    datetime64[ns]\n",
            "dtype: object\n"
          ]
        },
        {
          "output_type": "stream",
          "name": "stderr",
          "text": [
            "/usr/local/lib/python3.7/dist-packages/ipykernel_launcher.py:8: SettingWithCopyWarning: \n",
            "A value is trying to be set on a copy of a slice from a DataFrame.\n",
            "Try using .loc[row_indexer,col_indexer] = value instead\n",
            "\n",
            "See the caveats in the documentation: https://pandas.pydata.org/pandas-docs/stable/user_guide/indexing.html#returning-a-view-versus-a-copy\n",
            "  \n",
            "WARNING:matplotlib.legend:No handles with labels found to put in legend.\n"
          ]
        },
        {
          "output_type": "display_data",
          "data": {
            "text/plain": [
              "<Figure size 1440x720 with 1 Axes>"
            ],
            "image/png": "[encoded data removed]"
          },
          "metadata": {
            "needs_background": "light"
          }
        }
      ]
    },
    {
      "cell_type": "code",
      "source": [
        "#grouping by year\n",
        "print(df_sub.dtypes)\n",
        "\n",
        "\n",
        "df_sub['year'] = df_sub['datetime'].dt.year\n",
        "print(df_sub)\n",
        "\n",
        "\n",
        "df_sub.groupby('year')['Sunspots'].mean()\n"
      ],
      "metadata": {
        "colab": {
          "base_uri": "https://localhost:8080/"
        },
        "id": "LItk17uRufK6",
        "outputId": "895da402-ed99-4a1d-d61f-9de40513c813"
      },
      "execution_count": 15,
      "outputs": [
        {
          "output_type": "stream",
          "name": "stdout",
          "text": [
            "Month               object\n",
            "Sunspots           float64\n",
            "datetime    datetime64[ns]\n",
            "dtype: object\n",
            "      Month  Sunspots   datetime  year\n",
            "1   1749-02      62.6 1749-02-01  1749\n",
            "2   1749-03      70.0 1749-03-01  1749\n",
            "3   1749-04      55.7 1749-04-01  1749\n",
            "4   1749-05      85.0 1749-05-01  1749\n",
            "5   1749-06      83.5 1749-06-01  1749\n",
            "6   1749-07      94.8 1749-07-01  1749\n",
            "7   1749-08      66.3 1749-08-01  1749\n",
            "8   1749-09      75.9 1749-09-01  1749\n",
            "9   1749-10      75.5 1749-10-01  1749\n",
            "10  1749-11     158.6 1749-11-01  1749\n",
            "11  1749-12      85.2 1749-12-01  1749\n",
            "12  1750-01      73.3 1750-01-01  1750\n",
            "13  1750-02      75.9 1750-02-01  1750\n",
            "14  1750-03      89.2 1750-03-01  1750\n",
            "15  1750-04      88.3 1750-04-01  1750\n",
            "16  1750-05      90.0 1750-05-01  1750\n",
            "17  1750-06     100.0 1750-06-01  1750\n",
            "18  1750-07      85.4 1750-07-01  1750\n",
            "19  1750-08     103.0 1750-08-01  1750\n",
            "20  1750-09      91.2 1750-09-01  1750\n",
            "21  1750-10      65.7 1750-10-01  1750\n",
            "22  1750-11      63.3 1750-11-01  1750\n",
            "23  1750-12      75.4 1750-12-01  1750\n",
            "24  1751-01      70.0 1751-01-01  1751\n",
            "25  1751-02      43.5 1751-02-01  1751\n",
            "26  1751-03      45.3 1751-03-01  1751\n",
            "27  1751-04      56.4 1751-04-01  1751\n",
            "28  1751-05      60.7 1751-05-01  1751\n",
            "29  1751-06      50.7 1751-06-01  1751\n",
            "30  1751-07      66.3 1751-07-01  1751\n",
            "31  1751-08      59.8 1751-08-01  1751\n",
            "32  1751-09      23.5 1751-09-01  1751\n",
            "33  1751-10      23.2 1751-10-01  1751\n",
            "34  1751-11      28.5 1751-11-01  1751\n",
            "35  1751-12      44.0 1751-12-01  1751\n",
            "36  1752-01      35.0 1752-01-01  1752\n",
            "37  1752-02      50.0 1752-02-01  1752\n",
            "38  1752-03      71.0 1752-03-01  1752\n",
            "39  1752-04      59.3 1752-04-01  1752\n",
            "40  1752-05      59.7 1752-05-01  1752\n",
            "41  1752-06      39.6 1752-06-01  1752\n",
            "42  1752-07      78.4 1752-07-01  1752\n",
            "43  1752-08      29.3 1752-08-01  1752\n",
            "44  1752-09      27.1 1752-09-01  1752\n",
            "45  1752-10      46.6 1752-10-01  1752\n",
            "46  1752-11      37.6 1752-11-01  1752\n",
            "47  1752-12      40.0 1752-12-01  1752\n",
            "48  1753-01      44.0 1753-01-01  1753\n",
            "49  1753-02      32.0 1753-02-01  1753\n",
            "50  1753-03      45.7 1753-03-01  1753\n",
            "51  1753-04      38.0 1753-04-01  1753\n",
            "52  1753-05      36.0 1753-05-01  1753\n",
            "53  1753-06      31.7 1753-06-01  1753\n",
            "54  1753-07      22.2 1753-07-01  1753\n",
            "55  1753-08      39.0 1753-08-01  1753\n",
            "56  1753-09      28.0 1753-09-01  1753\n",
            "57  1753-10      25.0 1753-10-01  1753\n",
            "58  1753-11      20.0 1753-11-01  1753\n",
            "59  1753-12       6.7 1753-12-01  1753\n"
          ]
        },
        {
          "output_type": "stream",
          "name": "stderr",
          "text": [
            "/usr/local/lib/python3.7/dist-packages/ipykernel_launcher.py:4: SettingWithCopyWarning: \n",
            "A value is trying to be set on a copy of a slice from a DataFrame.\n",
            "Try using .loc[row_indexer,col_indexer] = value instead\n",
            "\n",
            "See the caveats in the documentation: https://pandas.pydata.org/pandas-docs/stable/user_guide/indexing.html#returning-a-view-versus-a-copy\n",
            "  after removing the cwd from sys.path.\n"
          ]
        },
        {
          "output_type": "execute_result",
          "data": {
            "text/plain": [
              "year\n",
              "1749    83.009091\n",
              "1750    83.391667\n",
              "1751    47.658333\n",
              "1752    47.800000\n",
              "1753    30.691667\n",
              "Name: Sunspots, dtype: float64"
            ]
          },
          "metadata": {},
          "execution_count": 15
        }
      ]
    },
    {
      "cell_type": "markdown",
      "source": [
        "# To do (Simple Task)\n",
        "For every year compute the average value of sunspots and sort the values of sunspots by year This will let you know which year the sunspots was minimum and maximum respectively"
      ],
      "metadata": {
        "id": "4xG9RzlQunYr"
      }
    },
    {
      "cell_type": "code",
      "source": [
        "## Enter your code here"
      ],
      "metadata": {
        "id": "J2jyrZLzuuJN"
      },
      "execution_count": null,
      "outputs": []
    },
    {
      "cell_type": "code",
      "source": [
        "# Visualisation of data as boxplot\n",
        "fig, ax = plt.subplots(figsize=(10,10))\n",
        "ax = sns.boxplot(data = df_sub, x='year',y=('Sunspots'))\n",
        "for item in ax.get_xticklabels():\n",
        "    item.set_rotation(30)"
      ],
      "metadata": {
        "colab": {
          "base_uri": "https://localhost:8080/",
          "height": 617
        },
        "id": "Qkk8cmVFuxFY",
        "outputId": "0634fc2b-abd9-40f8-9b3a-e6dbdf167b9e"
      },
      "execution_count": 23,
      "outputs": [
        {
          "output_type": "display_data",
          "data": {
            "text/plain": [
              "<Figure size 720x720 with 1 Axes>"
            ],
            "image/png": "[encoded data removed]"
          },
          "metadata": {
            "needs_background": "light"
          }
        }
      ]
    },
    {
      "cell_type": "code",
      "source": [
        "# Grouping by month\n",
        "# Allows without saving extra month column\n",
        "df_sub.groupby(df_sub['datetime'].dt.month)['Sunspots'].mean().sort_values()\n",
        "\n",
        "\n",
        "\n"
      ],
      "metadata": {
        "colab": {
          "base_uri": "https://localhost:8080/"
        },
        "id": "t5On7xMa1JOk",
        "outputId": "21c9f460-3e48-455e-a15c-2b14873fc9b9"
      },
      "execution_count": 26,
      "outputs": [
        {
          "output_type": "execute_result",
          "data": {
            "text/plain": [
              "datetime\n",
              "10    47.200\n",
              "9     49.140\n",
              "12    50.260\n",
              "2     52.800\n",
              "1     55.575\n",
              "8     59.480\n",
              "4     59.540\n",
              "6     61.100\n",
              "11    61.600\n",
              "3     64.240\n",
              "5     66.280\n",
              "7     69.420\n",
              "Name: Sunspots, dtype: float64"
            ]
          },
          "metadata": {},
          "execution_count": 26
        }
      ]
    },
    {
      "cell_type": "code",
      "source": [
        "# Saving month column for plotting\n",
        "df_sub['month'] = df_sub['datetime'].dt.month\n",
        "#print(df_sub)\n",
        "\n",
        "\n",
        "df_sub.groupby('month')['Sunspots'].mean()\n",
        "\n",
        "# Visualisation of data as boxplot\n",
        "fig, ax = plt.subplots(figsize=(10,10))\n",
        "ax = sns.boxplot(data = df_sub, x='month',y=('Sunspots'))\n",
        "for item in ax.get_xticklabels():\n",
        "    item.set_rotation(0)"
      ],
      "metadata": {
        "colab": {
          "base_uri": "https://localhost:8080/",
          "height": 710
        },
        "id": "IdLfCpFy2p_0",
        "outputId": "cff5df88-6ceb-46df-a957-93deadba034f"
      },
      "execution_count": 32,
      "outputs": [
        {
          "output_type": "stream",
          "name": "stderr",
          "text": [
            "/usr/local/lib/python3.7/dist-packages/ipykernel_launcher.py:2: SettingWithCopyWarning: \n",
            "A value is trying to be set on a copy of a slice from a DataFrame.\n",
            "Try using .loc[row_indexer,col_indexer] = value instead\n",
            "\n",
            "See the caveats in the documentation: https://pandas.pydata.org/pandas-docs/stable/user_guide/indexing.html#returning-a-view-versus-a-copy\n",
            "  \n"
          ]
        },
        {
          "output_type": "display_data",
          "data": {
            "text/plain": [
              "<Figure size 720x720 with 1 Axes>"
            ],
            "image/png": "[encoded data removed]"
          },
          "metadata": {
            "needs_background": "light"
          }
        }
      ]
    },
    {
      "cell_type": "code",
      "source": [
        "#Plot the above with custom defined fonts"
      ],
      "metadata": {
        "id": "-tkX6VZg-VA5"
      },
      "execution_count": null,
      "outputs": []
    },
    {
      "cell_type": "markdown",
      "source": [
        "#Task 1\n",
        "Visualisation task\n",
        "\n",
        "1. Subset the 1000 data points.\n",
        "2. Try to use the plot by year to the new subset of data\n",
        "3. Try to use the plot by month to the new subset of data\n",
        "4. Write your inference about which year was minimum and maximum sunspot occurred?\n",
        "5. Write your inference about which month was minimum and maximum sunspot occurred?"
      ],
      "metadata": {
        "id": "aQnTTAJa8cCw"
      }
    },
    {
      "cell_type": "markdown",
      "source": [
        "# 1. Simple RNN for time series dataset\n",
        "\n",
        "Steps                                             \n",
        "Data needs to be organized in the dataframe                     \n",
        "Split the data into train and test features"
      ],
      "metadata": {
        "id": "YBe20HkHvWZ4"
      }
    },
    {
      "cell_type": "code",
      "source": [
        "import math\n",
        "\n",
        "import numpy as np\n",
        "from tensorflow.keras.models import Sequential\n",
        "from tensorflow.keras.layers import Dense, SimpleRNN\n",
        "from sklearn.preprocessing import MinMaxScaler\n",
        "from sklearn.metrics import mean_squared_error\n",
        "import matplotlib.pyplot as plt"
      ],
      "metadata": {
        "id": "Ydu1tnnYxBUG"
      },
      "execution_count": 17,
      "outputs": []
    },
    {
      "cell_type": "code",
      "source": [
        "#Parameter split_percent defines the ratio of training examples\n",
        "def get_train_test(data, split_percent=0.8):\n",
        "  scaler = MinMaxScaler(feature_range=(0, 1))\n",
        "  n = len(data)\n",
        "  # Point for splitting data into train and test\n",
        "  split = int(n*split_percent)\n",
        "  train_data = data[range(split)]\n",
        "  test_data = data[split:]\n",
        "  return train_data, test_data, data\n",
        "\n",
        "df_RNN = df.copy()\n",
        "data = np.array(df_RNN['Sunspots'].values.astype('float32'))\n",
        "print(data.dtype)\n",
        "\n",
        "train_data, test_data, all_data = get_train_test(data)\n",
        "\n",
        "print(train_data.shape)\n",
        "print(test_data.shape)\n",
        "print(all_data.shape)"
      ],
      "metadata": {
        "colab": {
          "base_uri": "https://localhost:8080/"
        },
        "id": "ylnmRRclvwNg",
        "outputId": "fd6ea450-7825-4796-a1ff-e0f2dfd7c029"
      },
      "execution_count": 18,
      "outputs": [
        {
          "output_type": "stream",
          "name": "stdout",
          "text": [
            "float32\n",
            "(2256,)\n",
            "(564,)\n",
            "(2820,)\n"
          ]
        }
      ]
    },
    {
      "cell_type": "markdown",
      "source": [
        "#2. Generic way to define the RNN model"
      ],
      "metadata": {
        "id": "INMsd4eOymXp"
      }
    },
    {
      "cell_type": "code",
      "source": [
        "def create_RNN(hidden_units, dense_units, input_shape, activation):\n",
        "  model = Sequential()\n",
        "  model.add(SimpleRNN(hidden_units, input_shape=input_shape,\n",
        "                      activation=activation[0]))\n",
        "  model.add(Dense(units=dense_units, activation=activation[1]))\n",
        "  model.compile(loss='mean_squared_error', optimizer='adam')\n",
        "  return model"
      ],
      "metadata": {
        "id": "yMFryrMCyqHy"
      },
      "execution_count": 19,
      "outputs": []
    },
    {
      "cell_type": "markdown",
      "source": [
        "#3. Reshape data suitable for RNN input"
      ],
      "metadata": {
        "id": "VKLkbfuXzIQf"
      }
    },
    {
      "cell_type": "code",
      "source": [
        "# Prepare the input X and target Y\n",
        "def get_XY(data, time_steps):\n",
        "  # Indices of target array\n",
        "  Y_ind = np.arange(time_steps, len(data), time_steps)\n",
        "  Y = data[Y_ind]\n",
        "  # Prepare X\n",
        "  rows_x = len(Y)\n",
        "  X = data[range(time_steps*rows_x)]\n",
        "  X = np.reshape(X, (rows_x, time_steps, 1))\n",
        "  return X, Y\n",
        "\n",
        "time_steps = 12\n",
        "trainX, trainY = get_XY(train_data, time_steps)\n",
        "testX, testY = get_XY(test_data, time_steps)\n",
        "\n",
        "print(trainX.shape)\n",
        "print(trainY.shape)"
      ],
      "metadata": {
        "colab": {
          "base_uri": "https://localhost:8080/"
        },
        "id": "rl-EX2tlzQ_F",
        "outputId": "bd4260fc-f2a5-43d0-ee6a-dce7c1b31fbe"
      },
      "execution_count": 20,
      "outputs": [
        {
          "output_type": "stream",
          "name": "stdout",
          "text": [
            "(187, 12, 1)\n",
            "(187,)\n"
          ]
        }
      ]
    },
    {
      "cell_type": "markdown",
      "source": [
        "#4. Start RNN model training"
      ],
      "metadata": {
        "id": "Cv9Zx6tny4Ca"
      }
    },
    {
      "cell_type": "code",
      "source": [
        "model = create_RNN(hidden_units=3, dense_units=1, input_shape=(time_steps,1),\n",
        "activation=['linear', 'tanh'])\n",
        "model.fit(trainX, trainY, epochs=50, batch_size=1, verbose=1)"
      ],
      "metadata": {
        "colab": {
          "base_uri": "https://localhost:8080/"
        },
        "id": "vniXu1IWy80t",
        "outputId": "f000f664-0c3c-41a0-f71f-c8a9cfd6e833"
      },
      "execution_count": 21,
      "outputs": [
        {
          "output_type": "stream",
          "name": "stdout",
          "text": [
            "Epoch 1/50\n",
            "187/187 [==============================] - 1s 2ms/step - loss: 3253.9358\n",
            "Epoch 2/50\n",
            "187/187 [==============================] - 0s 3ms/step - loss: 3253.9348\n",
            "Epoch 3/50\n",
            "187/187 [==============================] - 0s 2ms/step - loss: 3253.9351\n",
            "Epoch 4/50\n",
            "187/187 [==============================] - 0s 3ms/step - loss: 3253.9368\n",
            "Epoch 5/50\n",
            "187/187 [==============================] - 0s 2ms/step - loss: 3253.9346\n",
            "Epoch 6/50\n",
            "187/187 [==============================] - 0s 2ms/step - loss: 3253.9346\n",
            "Epoch 7/50\n",
            "187/187 [==============================] - 0s 2ms/step - loss: 3253.9348\n",
            "Epoch 8/50\n",
            "187/187 [==============================] - 0s 2ms/step - loss: 3253.9346\n",
            "Epoch 9/50\n",
            "187/187 [==============================] - 0s 2ms/step - loss: 3253.9348\n",
            "Epoch 10/50\n",
            "187/187 [==============================] - 0s 2ms/step - loss: 3253.9363\n",
            "Epoch 11/50\n",
            "187/187 [==============================] - 0s 2ms/step - loss: 3253.9355\n",
            "Epoch 12/50\n",
            "187/187 [==============================] - 0s 2ms/step - loss: 3253.9355\n",
            "Epoch 13/50\n",
            "187/187 [==============================] - 0s 3ms/step - loss: 3253.9346\n",
            "Epoch 14/50\n",
            "187/187 [==============================] - 0s 2ms/step - loss: 3253.9346\n",
            "Epoch 15/50\n",
            "187/187 [==============================] - 0s 2ms/step - loss: 3253.9355\n",
            "Epoch 16/50\n",
            "187/187 [==============================] - 0s 2ms/step - loss: 3253.9351\n",
            "Epoch 17/50\n",
            "187/187 [==============================] - 0s 3ms/step - loss: 3253.9348\n",
            "Epoch 18/50\n",
            "187/187 [==============================] - 0s 2ms/step - loss: 3253.9351\n",
            "Epoch 19/50\n",
            "187/187 [==============================] - 0s 2ms/step - loss: 3253.9355\n",
            "Epoch 20/50\n",
            "187/187 [==============================] - 0s 2ms/step - loss: 3253.9351\n",
            "Epoch 21/50\n",
            "187/187 [==============================] - 0s 2ms/step - loss: 3253.9351\n",
            "Epoch 22/50\n",
            "187/187 [==============================] - 0s 2ms/step - loss: 3253.9351\n",
            "Epoch 23/50\n",
            "187/187 [==============================] - 0s 2ms/step - loss: 3253.9358\n",
            "Epoch 24/50\n",
            "187/187 [==============================] - 0s 3ms/step - loss: 3253.9351\n",
            "Epoch 25/50\n",
            "187/187 [==============================] - 0s 2ms/step - loss: 3253.9351\n",
            "Epoch 26/50\n",
            "187/187 [==============================] - 0s 2ms/step - loss: 3253.9348\n",
            "Epoch 27/50\n",
            "187/187 [==============================] - 0s 2ms/step - loss: 3253.9351\n",
            "Epoch 28/50\n",
            "187/187 [==============================] - 0s 3ms/step - loss: 3253.9355\n",
            "Epoch 29/50\n",
            "187/187 [==============================] - 0s 2ms/step - loss: 3253.9358\n",
            "Epoch 30/50\n",
            "187/187 [==============================] - 0s 2ms/step - loss: 3253.9348\n",
            "Epoch 31/50\n",
            "187/187 [==============================] - 0s 2ms/step - loss: 3253.9358\n",
            "Epoch 32/50\n",
            "187/187 [==============================] - 0s 2ms/step - loss: 3253.9358\n",
            "Epoch 33/50\n",
            "187/187 [==============================] - 0s 2ms/step - loss: 3253.9351\n",
            "Epoch 34/50\n",
            "187/187 [==============================] - 0s 2ms/step - loss: 3253.9355\n",
            "Epoch 35/50\n",
            "187/187 [==============================] - 0s 2ms/step - loss: 3253.9346\n",
            "Epoch 36/50\n",
            "187/187 [==============================] - 0s 2ms/step - loss: 3253.9346\n",
            "Epoch 37/50\n",
            "187/187 [==============================] - 0s 2ms/step - loss: 3253.9351\n",
            "Epoch 38/50\n",
            "187/187 [==============================] - 0s 2ms/step - loss: 3253.9355\n",
            "Epoch 39/50\n",
            "187/187 [==============================] - 0s 3ms/step - loss: 3253.9351\n",
            "Epoch 40/50\n",
            "187/187 [==============================] - 0s 2ms/step - loss: 3253.9351\n",
            "Epoch 41/50\n",
            "187/187 [==============================] - 0s 2ms/step - loss: 3253.9351\n",
            "Epoch 42/50\n",
            "187/187 [==============================] - 0s 2ms/step - loss: 3253.9358\n",
            "Epoch 43/50\n",
            "187/187 [==============================] - 0s 3ms/step - loss: 3253.9355\n",
            "Epoch 44/50\n",
            "187/187 [==============================] - 0s 2ms/step - loss: 3253.9358\n",
            "Epoch 45/50\n",
            "187/187 [==============================] - 0s 2ms/step - loss: 3253.9351\n",
            "Epoch 46/50\n",
            "187/187 [==============================] - 0s 2ms/step - loss: 3253.9351\n",
            "Epoch 47/50\n",
            "187/187 [==============================] - 0s 2ms/step - loss: 3253.9348\n",
            "Epoch 48/50\n",
            "187/187 [==============================] - 0s 2ms/step - loss: 3253.9355\n",
            "Epoch 49/50\n",
            "187/187 [==============================] - 0s 2ms/step - loss: 3253.9348\n",
            "Epoch 50/50\n",
            "187/187 [==============================] - 0s 2ms/step - loss: 3253.9355\n"
          ]
        },
        {
          "output_type": "execute_result",
          "data": {
            "text/plain": [
              "<keras.callbacks.History at 0x7fa80ba9a590>"
            ]
          },
          "metadata": {},
          "execution_count": 21
        }
      ]
    },
    {
      "cell_type": "markdown",
      "source": [
        "#4. Evaluate with Root Mean Square Error"
      ],
      "metadata": {
        "id": "rudcKiBnP53f"
      }
    },
    {
      "cell_type": "code",
      "source": [
        "def print_error(trainY, testY, train_predict, test_predict):\n",
        "  # Error of predictions\n",
        "  train_rmse = math.sqrt(mean_squared_error(trainY, train_predict))\n",
        "  test_rmse = math.sqrt(mean_squared_error(testY, test_predict))\n",
        "  # Print RMSE\n",
        "  print('Train RMSE: %.3f RMSE' % (train_rmse))\n",
        "  print('Test RMSE: %.3f RMSE' % (test_rmse))\n",
        " \n",
        "\n",
        "# make predictions\n",
        "train_predict = model.predict(trainX)\n",
        "test_predict = model.predict(testX)\n",
        "\n",
        "# Mean square error\n",
        "print_error(trainY, testY, train_predict, test_predict)"
      ],
      "metadata": {
        "id": "_WvyTthl30_G",
        "colab": {
          "base_uri": "https://localhost:8080/"
        },
        "outputId": "5b523858-44e4-4856-8ee1-d21153f76207"
      },
      "execution_count": 22,
      "outputs": [
        {
          "output_type": "stream",
          "name": "stdout",
          "text": [
            "6/6 [==============================] - 0s 3ms/step\n",
            "2/2 [==============================] - 0s 7ms/step\n",
            "Train RMSE: 57.043 RMSE\n",
            "Test RMSE: 92.189 RMSE\n"
          ]
        }
      ]
    },
    {
      "cell_type": "markdown",
      "source": [
        "# Task 2:\n",
        "\n",
        "1. Try to use 5 hidden units to the baseline RNN and estimate the RMSE.\n",
        "2. Try to use tanh activation in all branch and estimate the RMSE.\n",
        "3. Compare performance of tanh activation and linear activation with respect to the sunspot data"
      ],
      "metadata": {
        "id": "4efsriOo9OlH"
      }
    }
  ]
}